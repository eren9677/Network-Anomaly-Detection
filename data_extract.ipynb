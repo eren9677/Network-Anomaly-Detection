{
 "cells": [
  {
   "cell_type": "code",
   "execution_count": null,
   "metadata": {},
   "outputs": [],
   "source": [
    "#this code will extract the features of a pcap file in 60 second windows and saves it in a csv file.\n",
    "import pyshark\n",
    "import os\n",
    "import sys\n",
    "import pandas as pd\n",
    "import numpy as np\n",
    "\n",
    "\n",
    "def feature_extract(file, window_size=60):\n",
    "    \"\"\"\n",
    "    Extracts features from a pcap file in 60 second windows.\n",
    "    \"\"\"\n",
    "\n",
    "    current_window = 0\n",
    "    windows = {}\n",
    "    cap = pyshark.FileCapture(file) # Open the pcap file\n",
    "\n",
    "    for packet in cap:\n",
    "        \n",
    "\n",
    "\n",
    "    # Open the pcap file\n"
   ]
  }
 ],
 "metadata": {
  "kernelspec": {
   "display_name": "PackageTracer",
   "language": "python",
   "name": "python3"
  },
  "language_info": {
   "codemirror_mode": {
    "name": "ipython",
    "version": 3
   },
   "file_extension": ".py",
   "mimetype": "text/x-python",
   "name": "python",
   "nbconvert_exporter": "python",
   "pygments_lexer": "ipython3",
   "version": "3.13.0"
  }
 },
 "nbformat": 4,
 "nbformat_minor": 2
}
