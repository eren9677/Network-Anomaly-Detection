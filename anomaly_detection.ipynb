{
 "cells": [
  {
   "cell_type": "code",
   "execution_count": 1,
   "metadata": {},
   "outputs": [],
   "source": [
    "## this notebook will deteck anomalies from the pcap outputs.\n",
    "\n",
    "import pandas as pd\n",
    "import numpy as np\n",
    "\n",
    "from torch import nn\n",
    "\n",
    "import scipy\n",
    "import matplotlib.pyplot as plt\n",
    "\n",
    "\n",
    "from data_extractors import advanced_process, basic_process\n",
    "\n",
    "import os\n",
    "import sys\n",
    "\n",
    "##install pytorch\n",
    "\n",
    "##install scikit-learn\n",
    "from sklearn.preprocessing import StandardScaler\n",
    "from sklearn.decomposition import PCA\n",
    "from sklearn.cluster import KMeans\n",
    "\n",
    "from sklearn.feature_selection import SelectKBest\n",
    "## train test split import with cross fold\n",
    "from sklearn.model_selection import train_test_split\n",
    "from sklearn.model_selection import cross_val_score\n"
   ]
  },
  {
   "cell_type": "code",
   "execution_count": 4,
   "metadata": {},
   "outputs": [
    {
     "name": "stdout",
     "output_type": "stream",
     "text": [
      "Processing /Users/eren/Documents/GitHub/Network-Anomaly-Detection/pcap-files/baseline_day3.pcap...\n",
      "Processing /Users/eren/Documents/GitHub/Network-Anomaly-Detection/pcap-files/baseline_day2.pcap...\n",
      "Processing /Users/eren/Documents/GitHub/Network-Anomaly-Detection/pcap-files/baseline_day1.pcap...\n",
      "Successfully extracted features from 182 time windows\n",
      "Data saved to three_days_adv.csv\n",
      "Processing /Users/eren/Documents/GitHub/Network-Anomaly-Detection/pcap-files/baseline_day3.pcap...\n",
      "Processing /Users/eren/Documents/GitHub/Network-Anomaly-Detection/pcap-files/baseline_day2.pcap...\n",
      "Processing /Users/eren/Documents/GitHub/Network-Anomaly-Detection/pcap-files/baseline_day1.pcap...\n",
      "Successfully extracted features from 182 time windows\n",
      "Data saved to three_days_basic.csv\n"
     ]
    }
   ],
   "source": [
    "current_wd = os.getcwd()\n",
    "\n",
    "three_days_advanced_raw = advanced_process(f\"{current_wd}/pcap-files\",\"three_days_adv.csv\") ## this will likely cause errors now because the package is still getting collected in the background.\n",
    "\n",
    "three_days_basic_raw = basic_process(f\"{current_wd}/pcap-files\",\"three_days_basic.csv\") \n",
    "\n",
    "\n",
    "adv_df = pd.read_csv(three_days_advanced_raw)\n",
    "basic_df = pd.read_csv(three_days_basic_raw)\n",
    "\n",
    "\n",
    "\n",
    "# i will write a loop to get the statşstics of the data\n",
    "\n",
    "\n",
    "def get_stats(dataframe = pd.DataFrame):\n",
    "\n",
    "    \"\"\"\n",
    "    This function returns the statistics of the given dataframe.\n",
    "\n",
    "    Parameters:\n",
    "    dataframe: pd.DataFrame\n",
    "        The dataframe to be analyzed.\n",
    "    \"\"\"\n",
    "    try :\n",
    "        display(\"--------------------\")\n",
    "        display(\"dataframe\\'s shape is :\")\n",
    "        display(dataframe.shape)\n",
    "        display(\"--------------------\")\n",
    "        display(\"dataframe\\'s columns are :\")\n",
    "        display(dataframe.columns)\n",
    "        display(\"--------------------\")\n",
    "        display(\"dataframe\\'s info is :\")\n",
    "        display(dataframe.info())\n",
    "        display(\"--------------------\")\n",
    "        display(\"dataframe\\'s head is :\")\n",
    "        display(dataframe.head())\n",
    "        display(\"--------------------\")\n",
    "        display(\"dataframe\\'s tail is :\")\n",
    "        display(dataframe.tail())\n",
    "        display(\"--------------------\")\n",
    "        display(\"dataframe\\'s describe is :\")\n",
    "        display(dataframe.describe())\n",
    "        display(\"--------------------\")\n",
    "        display(\"dataframe\\'s null values are :\")\n",
    "        display(dataframe.isnull().sum())\n",
    "        display(\"--------------------\")\n",
    "        display(\"dataframe\\'s unique values are :\")\n",
    "        display(dataframe.nunique())\n",
    "        display(\"--------------------\")\n",
    "        display(\"dataframe\\'s data types are :\")\n",
    "        display(dataframe.dtypes)\n",
    "        display(\"--------------------\")\n",
    "        display(\"dataframe\\'s memory usage is :\")\n",
    "        display(dataframe.memory_usage())\n",
    "        display(\"--------------------\")\n",
    "\n",
    "        ##scipy stats of the dataframe\n",
    "        display(\"dataframe\\'s column stats are :\")\n",
    "        ##skewness of the every column\n",
    "        for col in dataframe.columns:\n",
    "            #skewness\n",
    "            display(f\"{col} skewness is : {scipy.stats.skew(dataframe[col])}\")\n",
    "            #kurtosis\n",
    "            display(f\"{col} kurtosis is : {scipy.stats.kurtosis(dataframe[col])}\")\n",
    "\n",
    "            dataframe = pd.DataFrame(\n",
    "                columns=[\"column name:\",\"skewness\", \"kurtosis\"],\n",
    "                data = [\n",
    "                    [col.name,scipy.stats.skew(dataframe[col]), scipy.stats.kurtosis(dataframe[col])]\n",
    "                ]\n",
    "            )\n",
    "\n",
    "\n",
    "\n",
    "        display(\"--------------------\")\n",
    "        ##correlation of the columns\n",
    "        display(\"dataframe\\'s correlation is :\")\n",
    "        display(dataframe.corr())\n",
    "        display(\"--------------------\")\n",
    "        ##covariance of the columns\n",
    "        display(\"dataframe\\'s covariance is :\")\n",
    "        display(dataframe.cov())\n",
    "        display(\"--------------------\")\n",
    "        ## chi scores\n",
    "        display(\"dataframe\\'s chi scores are :\")\n",
    "        display(dataframe.chisquare())\n",
    "        display(\"--------------------\")\n",
    "\n",
    "    except Exception as e:\n",
    "        print(\"An error occured: \", e)\n",
    "        return []\n"
   ]
  },
  {
   "cell_type": "code",
   "execution_count": 3,
   "metadata": {},
   "outputs": [
    {
     "data": {
      "text/plain": [
       "'--------------------'"
      ]
     },
     "metadata": {},
     "output_type": "display_data"
    },
    {
     "data": {
      "text/plain": [
       "\"dataframe's shape is :\""
      ]
     },
     "metadata": {},
     "output_type": "display_data"
    },
    {
     "data": {
      "text/plain": [
       "(174, 37)"
      ]
     },
     "metadata": {},
     "output_type": "display_data"
    },
    {
     "data": {
      "text/plain": [
       "'--------------------'"
      ]
     },
     "metadata": {},
     "output_type": "display_data"
    },
    {
     "data": {
      "text/plain": [
       "\"dataframe's columns are :\""
      ]
     },
     "metadata": {},
     "output_type": "display_data"
    },
    {
     "data": {
      "text/plain": [
       "Index(['window_id', 'window_start', 'packet_count', 'bytes_per_second',\n",
       "       'avg_packet_size', 'packet_size_std', 'unique_protocols',\n",
       "       'unique_src_ips', 'unique_dst_ips', 'unique_src_ports',\n",
       "       'unique_dst_ports', 'unique_ip_pairs', 'unique_port_pairs',\n",
       "       'unique_connections', 'dns_query_count', 'bytes_in', 'bytes_out',\n",
       "       'packets_in', 'packets_out', 'io_bytes_ratio', 'io_packet_ratio',\n",
       "       'new_connections', 'syn_count', 'fin_count', 'rst_count',\n",
       "       'syn_fin_ratio', 'connection_termination_ratio', 'retransmission_count',\n",
       "       'retransmission_rate', 'internal_external_ratio', 'ttl_mean', 'ttl_std',\n",
       "       'http_get_count', 'http_post_count', 'http_other_count', 'is_baseline',\n",
       "       'file_source'],\n",
       "      dtype='object')"
      ]
     },
     "metadata": {},
     "output_type": "display_data"
    },
    {
     "data": {
      "text/plain": [
       "'--------------------'"
      ]
     },
     "metadata": {},
     "output_type": "display_data"
    },
    {
     "data": {
      "text/plain": [
       "\"dataframe's info is :\""
      ]
     },
     "metadata": {},
     "output_type": "display_data"
    },
    {
     "name": "stdout",
     "output_type": "stream",
     "text": [
      "<class 'pandas.core.frame.DataFrame'>\n",
      "RangeIndex: 174 entries, 0 to 173\n",
      "Data columns (total 37 columns):\n",
      " #   Column                        Non-Null Count  Dtype  \n",
      "---  ------                        --------------  -----  \n",
      " 0   window_id                     174 non-null    int64  \n",
      " 1   window_start                  174 non-null    int64  \n",
      " 2   packet_count                  174 non-null    int64  \n",
      " 3   bytes_per_second              174 non-null    float64\n",
      " 4   avg_packet_size               174 non-null    float64\n",
      " 5   packet_size_std               174 non-null    float64\n",
      " 6   unique_protocols              174 non-null    int64  \n",
      " 7   unique_src_ips                174 non-null    int64  \n",
      " 8   unique_dst_ips                174 non-null    int64  \n",
      " 9   unique_src_ports              174 non-null    int64  \n",
      " 10  unique_dst_ports              174 non-null    int64  \n",
      " 11  unique_ip_pairs               174 non-null    int64  \n",
      " 12  unique_port_pairs             174 non-null    int64  \n",
      " 13  unique_connections            174 non-null    int64  \n",
      " 14  dns_query_count               174 non-null    int64  \n",
      " 15  bytes_in                      174 non-null    int64  \n",
      " 16  bytes_out                     174 non-null    int64  \n",
      " 17  packets_in                    174 non-null    int64  \n",
      " 18  packets_out                   174 non-null    int64  \n",
      " 19  io_bytes_ratio                174 non-null    float64\n",
      " 20  io_packet_ratio               174 non-null    float64\n",
      " 21  new_connections               174 non-null    int64  \n",
      " 22  syn_count                     174 non-null    int64  \n",
      " 23  fin_count                     174 non-null    int64  \n",
      " 24  rst_count                     174 non-null    int64  \n",
      " 25  syn_fin_ratio                 174 non-null    float64\n",
      " 26  connection_termination_ratio  174 non-null    float64\n",
      " 27  retransmission_count          174 non-null    int64  \n",
      " 28  retransmission_rate           174 non-null    float64\n",
      " 29  internal_external_ratio       174 non-null    float64\n",
      " 30  ttl_mean                      174 non-null    float64\n",
      " 31  ttl_std                       174 non-null    float64\n",
      " 32  http_get_count                174 non-null    int64  \n",
      " 33  http_post_count               174 non-null    int64  \n",
      " 34  http_other_count              174 non-null    int64  \n",
      " 35  is_baseline                   174 non-null    bool   \n",
      " 36  file_source                   174 non-null    object \n",
      "dtypes: bool(1), float64(11), int64(24), object(1)\n",
      "memory usage: 49.2+ KB\n"
     ]
    },
    {
     "data": {
      "text/plain": [
       "None"
      ]
     },
     "metadata": {},
     "output_type": "display_data"
    },
    {
     "data": {
      "text/plain": [
       "'--------------------'"
      ]
     },
     "metadata": {},
     "output_type": "display_data"
    },
    {
     "data": {
      "text/plain": [
       "\"dataframe's head is :\""
      ]
     },
     "metadata": {},
     "output_type": "display_data"
    },
    {
     "data": {
      "text/html": [
       "<div>\n",
       "<style scoped>\n",
       "    .dataframe tbody tr th:only-of-type {\n",
       "        vertical-align: middle;\n",
       "    }\n",
       "\n",
       "    .dataframe tbody tr th {\n",
       "        vertical-align: top;\n",
       "    }\n",
       "\n",
       "    .dataframe thead th {\n",
       "        text-align: right;\n",
       "    }\n",
       "</style>\n",
       "<table border=\"1\" class=\"dataframe\">\n",
       "  <thead>\n",
       "    <tr style=\"text-align: right;\">\n",
       "      <th></th>\n",
       "      <th>window_id</th>\n",
       "      <th>window_start</th>\n",
       "      <th>packet_count</th>\n",
       "      <th>bytes_per_second</th>\n",
       "      <th>avg_packet_size</th>\n",
       "      <th>packet_size_std</th>\n",
       "      <th>unique_protocols</th>\n",
       "      <th>unique_src_ips</th>\n",
       "      <th>unique_dst_ips</th>\n",
       "      <th>unique_src_ports</th>\n",
       "      <th>...</th>\n",
       "      <th>retransmission_count</th>\n",
       "      <th>retransmission_rate</th>\n",
       "      <th>internal_external_ratio</th>\n",
       "      <th>ttl_mean</th>\n",
       "      <th>ttl_std</th>\n",
       "      <th>http_get_count</th>\n",
       "      <th>http_post_count</th>\n",
       "      <th>http_other_count</th>\n",
       "      <th>is_baseline</th>\n",
       "      <th>file_source</th>\n",
       "    </tr>\n",
       "  </thead>\n",
       "  <tbody>\n",
       "    <tr>\n",
       "      <th>0</th>\n",
       "      <td>29034211</td>\n",
       "      <td>1742052660</td>\n",
       "      <td>327</td>\n",
       "      <td>1507.800000</td>\n",
       "      <td>276.660550</td>\n",
       "      <td>438.099172</td>\n",
       "      <td>0</td>\n",
       "      <td>17</td>\n",
       "      <td>18</td>\n",
       "      <td>37</td>\n",
       "      <td>...</td>\n",
       "      <td>7</td>\n",
       "      <td>0.021407</td>\n",
       "      <td>0.346154</td>\n",
       "      <td>94.176230</td>\n",
       "      <td>66.633061</td>\n",
       "      <td>0</td>\n",
       "      <td>0</td>\n",
       "      <td>0</td>\n",
       "      <td>True</td>\n",
       "      <td>baseline_day3.pcap</td>\n",
       "    </tr>\n",
       "    <tr>\n",
       "      <th>1</th>\n",
       "      <td>29034212</td>\n",
       "      <td>1742052720</td>\n",
       "      <td>3579</td>\n",
       "      <td>41266.650000</td>\n",
       "      <td>691.813076</td>\n",
       "      <td>683.013147</td>\n",
       "      <td>0</td>\n",
       "      <td>23</td>\n",
       "      <td>23</td>\n",
       "      <td>82</td>\n",
       "      <td>...</td>\n",
       "      <td>122</td>\n",
       "      <td>0.034088</td>\n",
       "      <td>0.243243</td>\n",
       "      <td>63.648462</td>\n",
       "      <td>22.617958</td>\n",
       "      <td>0</td>\n",
       "      <td>0</td>\n",
       "      <td>0</td>\n",
       "      <td>True</td>\n",
       "      <td>baseline_day3.pcap</td>\n",
       "    </tr>\n",
       "    <tr>\n",
       "      <th>2</th>\n",
       "      <td>29034213</td>\n",
       "      <td>1742052780</td>\n",
       "      <td>4876</td>\n",
       "      <td>54145.933333</td>\n",
       "      <td>666.274815</td>\n",
       "      <td>688.616027</td>\n",
       "      <td>0</td>\n",
       "      <td>23</td>\n",
       "      <td>23</td>\n",
       "      <td>99</td>\n",
       "      <td>...</td>\n",
       "      <td>147</td>\n",
       "      <td>0.030148</td>\n",
       "      <td>0.314286</td>\n",
       "      <td>62.672822</td>\n",
       "      <td>21.690844</td>\n",
       "      <td>0</td>\n",
       "      <td>0</td>\n",
       "      <td>0</td>\n",
       "      <td>True</td>\n",
       "      <td>baseline_day3.pcap</td>\n",
       "    </tr>\n",
       "    <tr>\n",
       "      <th>3</th>\n",
       "      <td>29034214</td>\n",
       "      <td>1742052840</td>\n",
       "      <td>1087</td>\n",
       "      <td>8822.283333</td>\n",
       "      <td>486.970561</td>\n",
       "      <td>599.537481</td>\n",
       "      <td>0</td>\n",
       "      <td>22</td>\n",
       "      <td>22</td>\n",
       "      <td>50</td>\n",
       "      <td>...</td>\n",
       "      <td>11</td>\n",
       "      <td>0.010120</td>\n",
       "      <td>0.375000</td>\n",
       "      <td>70.998628</td>\n",
       "      <td>43.327809</td>\n",
       "      <td>0</td>\n",
       "      <td>0</td>\n",
       "      <td>0</td>\n",
       "      <td>True</td>\n",
       "      <td>baseline_day3.pcap</td>\n",
       "    </tr>\n",
       "    <tr>\n",
       "      <th>4</th>\n",
       "      <td>29034215</td>\n",
       "      <td>1742052900</td>\n",
       "      <td>2776</td>\n",
       "      <td>35793.000000</td>\n",
       "      <td>773.623919</td>\n",
       "      <td>684.214021</td>\n",
       "      <td>0</td>\n",
       "      <td>21</td>\n",
       "      <td>21</td>\n",
       "      <td>43</td>\n",
       "      <td>...</td>\n",
       "      <td>31</td>\n",
       "      <td>0.011167</td>\n",
       "      <td>0.312500</td>\n",
       "      <td>63.684815</td>\n",
       "      <td>24.436863</td>\n",
       "      <td>0</td>\n",
       "      <td>0</td>\n",
       "      <td>0</td>\n",
       "      <td>True</td>\n",
       "      <td>baseline_day3.pcap</td>\n",
       "    </tr>\n",
       "  </tbody>\n",
       "</table>\n",
       "<p>5 rows × 37 columns</p>\n",
       "</div>"
      ],
      "text/plain": [
       "   window_id  window_start  packet_count  bytes_per_second  avg_packet_size  \\\n",
       "0   29034211    1742052660           327       1507.800000       276.660550   \n",
       "1   29034212    1742052720          3579      41266.650000       691.813076   \n",
       "2   29034213    1742052780          4876      54145.933333       666.274815   \n",
       "3   29034214    1742052840          1087       8822.283333       486.970561   \n",
       "4   29034215    1742052900          2776      35793.000000       773.623919   \n",
       "\n",
       "   packet_size_std  unique_protocols  unique_src_ips  unique_dst_ips  \\\n",
       "0       438.099172                 0              17              18   \n",
       "1       683.013147                 0              23              23   \n",
       "2       688.616027                 0              23              23   \n",
       "3       599.537481                 0              22              22   \n",
       "4       684.214021                 0              21              21   \n",
       "\n",
       "   unique_src_ports  ...  retransmission_count  retransmission_rate  \\\n",
       "0                37  ...                     7             0.021407   \n",
       "1                82  ...                   122             0.034088   \n",
       "2                99  ...                   147             0.030148   \n",
       "3                50  ...                    11             0.010120   \n",
       "4                43  ...                    31             0.011167   \n",
       "\n",
       "   internal_external_ratio   ttl_mean    ttl_std  http_get_count  \\\n",
       "0                 0.346154  94.176230  66.633061               0   \n",
       "1                 0.243243  63.648462  22.617958               0   \n",
       "2                 0.314286  62.672822  21.690844               0   \n",
       "3                 0.375000  70.998628  43.327809               0   \n",
       "4                 0.312500  63.684815  24.436863               0   \n",
       "\n",
       "   http_post_count  http_other_count  is_baseline         file_source  \n",
       "0                0                 0         True  baseline_day3.pcap  \n",
       "1                0                 0         True  baseline_day3.pcap  \n",
       "2                0                 0         True  baseline_day3.pcap  \n",
       "3                0                 0         True  baseline_day3.pcap  \n",
       "4                0                 0         True  baseline_day3.pcap  \n",
       "\n",
       "[5 rows x 37 columns]"
      ]
     },
     "metadata": {},
     "output_type": "display_data"
    },
    {
     "data": {
      "text/plain": [
       "'--------------------'"
      ]
     },
     "metadata": {},
     "output_type": "display_data"
    },
    {
     "data": {
      "text/plain": [
       "\"dataframe's tail is :\""
      ]
     },
     "metadata": {},
     "output_type": "display_data"
    },
    {
     "data": {
      "text/html": [
       "<div>\n",
       "<style scoped>\n",
       "    .dataframe tbody tr th:only-of-type {\n",
       "        vertical-align: middle;\n",
       "    }\n",
       "\n",
       "    .dataframe tbody tr th {\n",
       "        vertical-align: top;\n",
       "    }\n",
       "\n",
       "    .dataframe thead th {\n",
       "        text-align: right;\n",
       "    }\n",
       "</style>\n",
       "<table border=\"1\" class=\"dataframe\">\n",
       "  <thead>\n",
       "    <tr style=\"text-align: right;\">\n",
       "      <th></th>\n",
       "      <th>window_id</th>\n",
       "      <th>window_start</th>\n",
       "      <th>packet_count</th>\n",
       "      <th>bytes_per_second</th>\n",
       "      <th>avg_packet_size</th>\n",
       "      <th>packet_size_std</th>\n",
       "      <th>unique_protocols</th>\n",
       "      <th>unique_src_ips</th>\n",
       "      <th>unique_dst_ips</th>\n",
       "      <th>unique_src_ports</th>\n",
       "      <th>...</th>\n",
       "      <th>retransmission_count</th>\n",
       "      <th>retransmission_rate</th>\n",
       "      <th>internal_external_ratio</th>\n",
       "      <th>ttl_mean</th>\n",
       "      <th>ttl_std</th>\n",
       "      <th>http_get_count</th>\n",
       "      <th>http_post_count</th>\n",
       "      <th>http_other_count</th>\n",
       "      <th>is_baseline</th>\n",
       "      <th>file_source</th>\n",
       "    </tr>\n",
       "  </thead>\n",
       "  <tbody>\n",
       "    <tr>\n",
       "      <th>169</th>\n",
       "      <td>29028315</td>\n",
       "      <td>1741698900</td>\n",
       "      <td>301</td>\n",
       "      <td>811.133333</td>\n",
       "      <td>161.687708</td>\n",
       "      <td>283.243416</td>\n",
       "      <td>0</td>\n",
       "      <td>18</td>\n",
       "      <td>20</td>\n",
       "      <td>28</td>\n",
       "      <td>...</td>\n",
       "      <td>5</td>\n",
       "      <td>0.016611</td>\n",
       "      <td>0.0</td>\n",
       "      <td>58.962585</td>\n",
       "      <td>17.222295</td>\n",
       "      <td>0</td>\n",
       "      <td>0</td>\n",
       "      <td>0</td>\n",
       "      <td>True</td>\n",
       "      <td>baseline_day1.pcap</td>\n",
       "    </tr>\n",
       "    <tr>\n",
       "      <th>170</th>\n",
       "      <td>29028316</td>\n",
       "      <td>1741698960</td>\n",
       "      <td>1027</td>\n",
       "      <td>7941.333333</td>\n",
       "      <td>463.953262</td>\n",
       "      <td>532.872552</td>\n",
       "      <td>0</td>\n",
       "      <td>23</td>\n",
       "      <td>26</td>\n",
       "      <td>37</td>\n",
       "      <td>...</td>\n",
       "      <td>1</td>\n",
       "      <td>0.000974</td>\n",
       "      <td>0.0</td>\n",
       "      <td>61.635651</td>\n",
       "      <td>14.445157</td>\n",
       "      <td>0</td>\n",
       "      <td>0</td>\n",
       "      <td>0</td>\n",
       "      <td>True</td>\n",
       "      <td>baseline_day1.pcap</td>\n",
       "    </tr>\n",
       "    <tr>\n",
       "      <th>171</th>\n",
       "      <td>29028317</td>\n",
       "      <td>1741699020</td>\n",
       "      <td>300</td>\n",
       "      <td>1498.633333</td>\n",
       "      <td>299.726667</td>\n",
       "      <td>420.982991</td>\n",
       "      <td>0</td>\n",
       "      <td>21</td>\n",
       "      <td>24</td>\n",
       "      <td>34</td>\n",
       "      <td>...</td>\n",
       "      <td>0</td>\n",
       "      <td>0.000000</td>\n",
       "      <td>0.0</td>\n",
       "      <td>64.839465</td>\n",
       "      <td>18.832859</td>\n",
       "      <td>0</td>\n",
       "      <td>0</td>\n",
       "      <td>0</td>\n",
       "      <td>True</td>\n",
       "      <td>baseline_day1.pcap</td>\n",
       "    </tr>\n",
       "    <tr>\n",
       "      <th>172</th>\n",
       "      <td>29028318</td>\n",
       "      <td>1741699080</td>\n",
       "      <td>341</td>\n",
       "      <td>1177.633333</td>\n",
       "      <td>207.208211</td>\n",
       "      <td>313.298393</td>\n",
       "      <td>0</td>\n",
       "      <td>19</td>\n",
       "      <td>18</td>\n",
       "      <td>48</td>\n",
       "      <td>...</td>\n",
       "      <td>1</td>\n",
       "      <td>0.002933</td>\n",
       "      <td>0.0</td>\n",
       "      <td>64.265176</td>\n",
       "      <td>29.276854</td>\n",
       "      <td>0</td>\n",
       "      <td>0</td>\n",
       "      <td>0</td>\n",
       "      <td>True</td>\n",
       "      <td>baseline_day1.pcap</td>\n",
       "    </tr>\n",
       "    <tr>\n",
       "      <th>173</th>\n",
       "      <td>29028319</td>\n",
       "      <td>1741699140</td>\n",
       "      <td>72</td>\n",
       "      <td>442.166667</td>\n",
       "      <td>368.472222</td>\n",
       "      <td>539.853272</td>\n",
       "      <td>0</td>\n",
       "      <td>11</td>\n",
       "      <td>12</td>\n",
       "      <td>12</td>\n",
       "      <td>...</td>\n",
       "      <td>0</td>\n",
       "      <td>0.000000</td>\n",
       "      <td>0.0</td>\n",
       "      <td>69.958333</td>\n",
       "      <td>19.017855</td>\n",
       "      <td>0</td>\n",
       "      <td>0</td>\n",
       "      <td>0</td>\n",
       "      <td>True</td>\n",
       "      <td>baseline_day1.pcap</td>\n",
       "    </tr>\n",
       "  </tbody>\n",
       "</table>\n",
       "<p>5 rows × 37 columns</p>\n",
       "</div>"
      ],
      "text/plain": [
       "     window_id  window_start  packet_count  bytes_per_second  avg_packet_size  \\\n",
       "169   29028315    1741698900           301        811.133333       161.687708   \n",
       "170   29028316    1741698960          1027       7941.333333       463.953262   \n",
       "171   29028317    1741699020           300       1498.633333       299.726667   \n",
       "172   29028318    1741699080           341       1177.633333       207.208211   \n",
       "173   29028319    1741699140            72        442.166667       368.472222   \n",
       "\n",
       "     packet_size_std  unique_protocols  unique_src_ips  unique_dst_ips  \\\n",
       "169       283.243416                 0              18              20   \n",
       "170       532.872552                 0              23              26   \n",
       "171       420.982991                 0              21              24   \n",
       "172       313.298393                 0              19              18   \n",
       "173       539.853272                 0              11              12   \n",
       "\n",
       "     unique_src_ports  ...  retransmission_count  retransmission_rate  \\\n",
       "169                28  ...                     5             0.016611   \n",
       "170                37  ...                     1             0.000974   \n",
       "171                34  ...                     0             0.000000   \n",
       "172                48  ...                     1             0.002933   \n",
       "173                12  ...                     0             0.000000   \n",
       "\n",
       "     internal_external_ratio   ttl_mean    ttl_std  http_get_count  \\\n",
       "169                      0.0  58.962585  17.222295               0   \n",
       "170                      0.0  61.635651  14.445157               0   \n",
       "171                      0.0  64.839465  18.832859               0   \n",
       "172                      0.0  64.265176  29.276854               0   \n",
       "173                      0.0  69.958333  19.017855               0   \n",
       "\n",
       "     http_post_count  http_other_count  is_baseline         file_source  \n",
       "169                0                 0         True  baseline_day1.pcap  \n",
       "170                0                 0         True  baseline_day1.pcap  \n",
       "171                0                 0         True  baseline_day1.pcap  \n",
       "172                0                 0         True  baseline_day1.pcap  \n",
       "173                0                 0         True  baseline_day1.pcap  \n",
       "\n",
       "[5 rows x 37 columns]"
      ]
     },
     "metadata": {},
     "output_type": "display_data"
    },
    {
     "data": {
      "text/plain": [
       "'--------------------'"
      ]
     },
     "metadata": {},
     "output_type": "display_data"
    },
    {
     "data": {
      "text/plain": [
       "\"dataframe's describe is :\""
      ]
     },
     "metadata": {},
     "output_type": "display_data"
    },
    {
     "data": {
      "text/html": [
       "<div>\n",
       "<style scoped>\n",
       "    .dataframe tbody tr th:only-of-type {\n",
       "        vertical-align: middle;\n",
       "    }\n",
       "\n",
       "    .dataframe tbody tr th {\n",
       "        vertical-align: top;\n",
       "    }\n",
       "\n",
       "    .dataframe thead th {\n",
       "        text-align: right;\n",
       "    }\n",
       "</style>\n",
       "<table border=\"1\" class=\"dataframe\">\n",
       "  <thead>\n",
       "    <tr style=\"text-align: right;\">\n",
       "      <th></th>\n",
       "      <th>window_id</th>\n",
       "      <th>window_start</th>\n",
       "      <th>packet_count</th>\n",
       "      <th>bytes_per_second</th>\n",
       "      <th>avg_packet_size</th>\n",
       "      <th>packet_size_std</th>\n",
       "      <th>unique_protocols</th>\n",
       "      <th>unique_src_ips</th>\n",
       "      <th>unique_dst_ips</th>\n",
       "      <th>unique_src_ports</th>\n",
       "      <th>...</th>\n",
       "      <th>syn_fin_ratio</th>\n",
       "      <th>connection_termination_ratio</th>\n",
       "      <th>retransmission_count</th>\n",
       "      <th>retransmission_rate</th>\n",
       "      <th>internal_external_ratio</th>\n",
       "      <th>ttl_mean</th>\n",
       "      <th>ttl_std</th>\n",
       "      <th>http_get_count</th>\n",
       "      <th>http_post_count</th>\n",
       "      <th>http_other_count</th>\n",
       "    </tr>\n",
       "  </thead>\n",
       "  <tbody>\n",
       "    <tr>\n",
       "      <th>count</th>\n",
       "      <td>1.740000e+02</td>\n",
       "      <td>1.740000e+02</td>\n",
       "      <td>174.000000</td>\n",
       "      <td>1.740000e+02</td>\n",
       "      <td>174.000000</td>\n",
       "      <td>174.000000</td>\n",
       "      <td>174.0</td>\n",
       "      <td>174.000000</td>\n",
       "      <td>174.000000</td>\n",
       "      <td>174.000000</td>\n",
       "      <td>...</td>\n",
       "      <td>174.000000</td>\n",
       "      <td>174.000000</td>\n",
       "      <td>174.000000</td>\n",
       "      <td>174.000000</td>\n",
       "      <td>174.000000</td>\n",
       "      <td>174.000000</td>\n",
       "      <td>174.000000</td>\n",
       "      <td>174.000000</td>\n",
       "      <td>174.0</td>\n",
       "      <td>174.000000</td>\n",
       "    </tr>\n",
       "    <tr>\n",
       "      <th>mean</th>\n",
       "      <td>2.903155e+07</td>\n",
       "      <td>1.741893e+09</td>\n",
       "      <td>4825.649425</td>\n",
       "      <td>7.340028e+04</td>\n",
       "      <td>482.995934</td>\n",
       "      <td>509.712695</td>\n",
       "      <td>0.0</td>\n",
       "      <td>20.143678</td>\n",
       "      <td>21.580460</td>\n",
       "      <td>51.350575</td>\n",
       "      <td>...</td>\n",
       "      <td>1.542983</td>\n",
       "      <td>1.522577</td>\n",
       "      <td>33.390805</td>\n",
       "      <td>0.016000</td>\n",
       "      <td>0.126783</td>\n",
       "      <td>69.037155</td>\n",
       "      <td>29.504918</td>\n",
       "      <td>0.022989</td>\n",
       "      <td>0.0</td>\n",
       "      <td>0.011494</td>\n",
       "    </tr>\n",
       "    <tr>\n",
       "      <th>std</th>\n",
       "      <td>2.500613e+03</td>\n",
       "      <td>1.500368e+05</td>\n",
       "      <td>27350.752524</td>\n",
       "      <td>4.821891e+05</td>\n",
       "      <td>234.639481</td>\n",
       "      <td>144.741217</td>\n",
       "      <td>0.0</td>\n",
       "      <td>8.721579</td>\n",
       "      <td>9.324706</td>\n",
       "      <td>36.347680</td>\n",
       "      <td>...</td>\n",
       "      <td>1.495941</td>\n",
       "      <td>1.991990</td>\n",
       "      <td>95.310488</td>\n",
       "      <td>0.021048</td>\n",
       "      <td>0.114556</td>\n",
       "      <td>20.264987</td>\n",
       "      <td>15.566679</td>\n",
       "      <td>0.150299</td>\n",
       "      <td>0.0</td>\n",
       "      <td>0.151620</td>\n",
       "    </tr>\n",
       "    <tr>\n",
       "      <th>min</th>\n",
       "      <td>2.902826e+07</td>\n",
       "      <td>1.741696e+09</td>\n",
       "      <td>25.000000</td>\n",
       "      <td>2.988333e+01</td>\n",
       "      <td>71.720000</td>\n",
       "      <td>12.829716</td>\n",
       "      <td>0.0</td>\n",
       "      <td>5.000000</td>\n",
       "      <td>5.000000</td>\n",
       "      <td>5.000000</td>\n",
       "      <td>...</td>\n",
       "      <td>0.000000</td>\n",
       "      <td>0.000000</td>\n",
       "      <td>0.000000</td>\n",
       "      <td>0.000000</td>\n",
       "      <td>0.000000</td>\n",
       "      <td>50.468531</td>\n",
       "      <td>7.341066</td>\n",
       "      <td>0.000000</td>\n",
       "      <td>0.0</td>\n",
       "      <td>0.000000</td>\n",
       "    </tr>\n",
       "    <tr>\n",
       "      <th>25%</th>\n",
       "      <td>2.902830e+07</td>\n",
       "      <td>1.741698e+09</td>\n",
       "      <td>412.750000</td>\n",
       "      <td>2.449667e+03</td>\n",
       "      <td>289.140216</td>\n",
       "      <td>419.762786</td>\n",
       "      <td>0.0</td>\n",
       "      <td>14.250000</td>\n",
       "      <td>16.000000</td>\n",
       "      <td>29.000000</td>\n",
       "      <td>...</td>\n",
       "      <td>0.933124</td>\n",
       "      <td>0.750000</td>\n",
       "      <td>2.000000</td>\n",
       "      <td>0.002219</td>\n",
       "      <td>0.000000</td>\n",
       "      <td>61.316007</td>\n",
       "      <td>19.039412</td>\n",
       "      <td>0.000000</td>\n",
       "      <td>0.0</td>\n",
       "      <td>0.000000</td>\n",
       "    </tr>\n",
       "    <tr>\n",
       "      <th>50%</th>\n",
       "      <td>2.903252e+07</td>\n",
       "      <td>1.741951e+09</td>\n",
       "      <td>943.500000</td>\n",
       "      <td>6.899483e+03</td>\n",
       "      <td>453.970464</td>\n",
       "      <td>544.365977</td>\n",
       "      <td>0.0</td>\n",
       "      <td>18.000000</td>\n",
       "      <td>19.500000</td>\n",
       "      <td>42.000000</td>\n",
       "      <td>...</td>\n",
       "      <td>1.160256</td>\n",
       "      <td>1.067816</td>\n",
       "      <td>8.000000</td>\n",
       "      <td>0.008744</td>\n",
       "      <td>0.131255</td>\n",
       "      <td>64.639250</td>\n",
       "      <td>25.740072</td>\n",
       "      <td>0.000000</td>\n",
       "      <td>0.0</td>\n",
       "      <td>0.000000</td>\n",
       "    </tr>\n",
       "    <tr>\n",
       "      <th>75%</th>\n",
       "      <td>2.903422e+07</td>\n",
       "      <td>1.742053e+09</td>\n",
       "      <td>2509.750000</td>\n",
       "      <td>2.456565e+04</td>\n",
       "      <td>667.242132</td>\n",
       "      <td>621.495637</td>\n",
       "      <td>0.0</td>\n",
       "      <td>24.000000</td>\n",
       "      <td>26.000000</td>\n",
       "      <td>62.750000</td>\n",
       "      <td>...</td>\n",
       "      <td>1.666667</td>\n",
       "      <td>1.425595</td>\n",
       "      <td>27.000000</td>\n",
       "      <td>0.021366</td>\n",
       "      <td>0.208333</td>\n",
       "      <td>70.529249</td>\n",
       "      <td>35.856825</td>\n",
       "      <td>0.000000</td>\n",
       "      <td>0.0</td>\n",
       "      <td>0.000000</td>\n",
       "    </tr>\n",
       "    <tr>\n",
       "      <th>max</th>\n",
       "      <td>2.903426e+07</td>\n",
       "      <td>1.742056e+09</td>\n",
       "      <td>334264.000000</td>\n",
       "      <td>5.892223e+06</td>\n",
       "      <td>1222.955393</td>\n",
       "      <td>690.849903</td>\n",
       "      <td>0.0</td>\n",
       "      <td>54.000000</td>\n",
       "      <td>58.000000</td>\n",
       "      <td>228.000000</td>\n",
       "      <td>...</td>\n",
       "      <td>10.666667</td>\n",
       "      <td>16.500000</td>\n",
       "      <td>963.000000</td>\n",
       "      <td>0.137509</td>\n",
       "      <td>0.500000</td>\n",
       "      <td>207.021718</td>\n",
       "      <td>82.890576</td>\n",
       "      <td>1.000000</td>\n",
       "      <td>0.0</td>\n",
       "      <td>2.000000</td>\n",
       "    </tr>\n",
       "  </tbody>\n",
       "</table>\n",
       "<p>8 rows × 35 columns</p>\n",
       "</div>"
      ],
      "text/plain": [
       "          window_id  window_start   packet_count  bytes_per_second  \\\n",
       "count  1.740000e+02  1.740000e+02     174.000000      1.740000e+02   \n",
       "mean   2.903155e+07  1.741893e+09    4825.649425      7.340028e+04   \n",
       "std    2.500613e+03  1.500368e+05   27350.752524      4.821891e+05   \n",
       "min    2.902826e+07  1.741696e+09      25.000000      2.988333e+01   \n",
       "25%    2.902830e+07  1.741698e+09     412.750000      2.449667e+03   \n",
       "50%    2.903252e+07  1.741951e+09     943.500000      6.899483e+03   \n",
       "75%    2.903422e+07  1.742053e+09    2509.750000      2.456565e+04   \n",
       "max    2.903426e+07  1.742056e+09  334264.000000      5.892223e+06   \n",
       "\n",
       "       avg_packet_size  packet_size_std  unique_protocols  unique_src_ips  \\\n",
       "count       174.000000       174.000000             174.0      174.000000   \n",
       "mean        482.995934       509.712695               0.0       20.143678   \n",
       "std         234.639481       144.741217               0.0        8.721579   \n",
       "min          71.720000        12.829716               0.0        5.000000   \n",
       "25%         289.140216       419.762786               0.0       14.250000   \n",
       "50%         453.970464       544.365977               0.0       18.000000   \n",
       "75%         667.242132       621.495637               0.0       24.000000   \n",
       "max        1222.955393       690.849903               0.0       54.000000   \n",
       "\n",
       "       unique_dst_ips  unique_src_ports  ...  syn_fin_ratio  \\\n",
       "count      174.000000        174.000000  ...     174.000000   \n",
       "mean        21.580460         51.350575  ...       1.542983   \n",
       "std          9.324706         36.347680  ...       1.495941   \n",
       "min          5.000000          5.000000  ...       0.000000   \n",
       "25%         16.000000         29.000000  ...       0.933124   \n",
       "50%         19.500000         42.000000  ...       1.160256   \n",
       "75%         26.000000         62.750000  ...       1.666667   \n",
       "max         58.000000        228.000000  ...      10.666667   \n",
       "\n",
       "       connection_termination_ratio  retransmission_count  \\\n",
       "count                    174.000000            174.000000   \n",
       "mean                       1.522577             33.390805   \n",
       "std                        1.991990             95.310488   \n",
       "min                        0.000000              0.000000   \n",
       "25%                        0.750000              2.000000   \n",
       "50%                        1.067816              8.000000   \n",
       "75%                        1.425595             27.000000   \n",
       "max                       16.500000            963.000000   \n",
       "\n",
       "       retransmission_rate  internal_external_ratio    ttl_mean     ttl_std  \\\n",
       "count           174.000000               174.000000  174.000000  174.000000   \n",
       "mean              0.016000                 0.126783   69.037155   29.504918   \n",
       "std               0.021048                 0.114556   20.264987   15.566679   \n",
       "min               0.000000                 0.000000   50.468531    7.341066   \n",
       "25%               0.002219                 0.000000   61.316007   19.039412   \n",
       "50%               0.008744                 0.131255   64.639250   25.740072   \n",
       "75%               0.021366                 0.208333   70.529249   35.856825   \n",
       "max               0.137509                 0.500000  207.021718   82.890576   \n",
       "\n",
       "       http_get_count  http_post_count  http_other_count  \n",
       "count      174.000000            174.0        174.000000  \n",
       "mean         0.022989              0.0          0.011494  \n",
       "std          0.150299              0.0          0.151620  \n",
       "min          0.000000              0.0          0.000000  \n",
       "25%          0.000000              0.0          0.000000  \n",
       "50%          0.000000              0.0          0.000000  \n",
       "75%          0.000000              0.0          0.000000  \n",
       "max          1.000000              0.0          2.000000  \n",
       "\n",
       "[8 rows x 35 columns]"
      ]
     },
     "metadata": {},
     "output_type": "display_data"
    },
    {
     "data": {
      "text/plain": [
       "'--------------------'"
      ]
     },
     "metadata": {},
     "output_type": "display_data"
    },
    {
     "data": {
      "text/plain": [
       "\"dataframe's null values are :\""
      ]
     },
     "metadata": {},
     "output_type": "display_data"
    },
    {
     "data": {
      "text/plain": [
       "window_id                       0\n",
       "window_start                    0\n",
       "packet_count                    0\n",
       "bytes_per_second                0\n",
       "avg_packet_size                 0\n",
       "packet_size_std                 0\n",
       "unique_protocols                0\n",
       "unique_src_ips                  0\n",
       "unique_dst_ips                  0\n",
       "unique_src_ports                0\n",
       "unique_dst_ports                0\n",
       "unique_ip_pairs                 0\n",
       "unique_port_pairs               0\n",
       "unique_connections              0\n",
       "dns_query_count                 0\n",
       "bytes_in                        0\n",
       "bytes_out                       0\n",
       "packets_in                      0\n",
       "packets_out                     0\n",
       "io_bytes_ratio                  0\n",
       "io_packet_ratio                 0\n",
       "new_connections                 0\n",
       "syn_count                       0\n",
       "fin_count                       0\n",
       "rst_count                       0\n",
       "syn_fin_ratio                   0\n",
       "connection_termination_ratio    0\n",
       "retransmission_count            0\n",
       "retransmission_rate             0\n",
       "internal_external_ratio         0\n",
       "ttl_mean                        0\n",
       "ttl_std                         0\n",
       "http_get_count                  0\n",
       "http_post_count                 0\n",
       "http_other_count                0\n",
       "is_baseline                     0\n",
       "file_source                     0\n",
       "dtype: int64"
      ]
     },
     "metadata": {},
     "output_type": "display_data"
    },
    {
     "data": {
      "text/plain": [
       "'--------------------'"
      ]
     },
     "metadata": {},
     "output_type": "display_data"
    },
    {
     "data": {
      "text/plain": [
       "\"dataframe's unique values are :\""
      ]
     },
     "metadata": {},
     "output_type": "display_data"
    },
    {
     "data": {
      "text/plain": [
       "window_id                       174\n",
       "window_start                    174\n",
       "packet_count                    171\n",
       "bytes_per_second                174\n",
       "avg_packet_size                 174\n",
       "packet_size_std                 174\n",
       "unique_protocols                  1\n",
       "unique_src_ips                   39\n",
       "unique_dst_ips                   40\n",
       "unique_src_ports                 84\n",
       "unique_dst_ports                 83\n",
       "unique_ip_pairs                  64\n",
       "unique_port_pairs               106\n",
       "unique_connections              109\n",
       "dns_query_count                  38\n",
       "bytes_in                        116\n",
       "bytes_out                       114\n",
       "packets_in                      111\n",
       "packets_out                     108\n",
       "io_bytes_ratio                  114\n",
       "io_packet_ratio                 113\n",
       "new_connections                  60\n",
       "syn_count                        60\n",
       "fin_count                        54\n",
       "rst_count                        34\n",
       "syn_fin_ratio                   118\n",
       "connection_termination_ratio    128\n",
       "retransmission_count             59\n",
       "retransmission_rate             156\n",
       "internal_external_ratio          85\n",
       "ttl_mean                        174\n",
       "ttl_std                         174\n",
       "http_get_count                    2\n",
       "http_post_count                   1\n",
       "http_other_count                  2\n",
       "is_baseline                       1\n",
       "file_source                       3\n",
       "dtype: int64"
      ]
     },
     "metadata": {},
     "output_type": "display_data"
    },
    {
     "data": {
      "text/plain": [
       "'--------------------'"
      ]
     },
     "metadata": {},
     "output_type": "display_data"
    },
    {
     "data": {
      "text/plain": [
       "\"dataframe's data types are :\""
      ]
     },
     "metadata": {},
     "output_type": "display_data"
    },
    {
     "data": {
      "text/plain": [
       "window_id                         int64\n",
       "window_start                      int64\n",
       "packet_count                      int64\n",
       "bytes_per_second                float64\n",
       "avg_packet_size                 float64\n",
       "packet_size_std                 float64\n",
       "unique_protocols                  int64\n",
       "unique_src_ips                    int64\n",
       "unique_dst_ips                    int64\n",
       "unique_src_ports                  int64\n",
       "unique_dst_ports                  int64\n",
       "unique_ip_pairs                   int64\n",
       "unique_port_pairs                 int64\n",
       "unique_connections                int64\n",
       "dns_query_count                   int64\n",
       "bytes_in                          int64\n",
       "bytes_out                         int64\n",
       "packets_in                        int64\n",
       "packets_out                       int64\n",
       "io_bytes_ratio                  float64\n",
       "io_packet_ratio                 float64\n",
       "new_connections                   int64\n",
       "syn_count                         int64\n",
       "fin_count                         int64\n",
       "rst_count                         int64\n",
       "syn_fin_ratio                   float64\n",
       "connection_termination_ratio    float64\n",
       "retransmission_count              int64\n",
       "retransmission_rate             float64\n",
       "internal_external_ratio         float64\n",
       "ttl_mean                        float64\n",
       "ttl_std                         float64\n",
       "http_get_count                    int64\n",
       "http_post_count                   int64\n",
       "http_other_count                  int64\n",
       "is_baseline                        bool\n",
       "file_source                      object\n",
       "dtype: object"
      ]
     },
     "metadata": {},
     "output_type": "display_data"
    },
    {
     "data": {
      "text/plain": [
       "'--------------------'"
      ]
     },
     "metadata": {},
     "output_type": "display_data"
    },
    {
     "data": {
      "text/plain": [
       "\"dataframe's memory usage is :\""
      ]
     },
     "metadata": {},
     "output_type": "display_data"
    },
    {
     "data": {
      "text/plain": [
       "Index                            132\n",
       "window_id                       1392\n",
       "window_start                    1392\n",
       "packet_count                    1392\n",
       "bytes_per_second                1392\n",
       "avg_packet_size                 1392\n",
       "packet_size_std                 1392\n",
       "unique_protocols                1392\n",
       "unique_src_ips                  1392\n",
       "unique_dst_ips                  1392\n",
       "unique_src_ports                1392\n",
       "unique_dst_ports                1392\n",
       "unique_ip_pairs                 1392\n",
       "unique_port_pairs               1392\n",
       "unique_connections              1392\n",
       "dns_query_count                 1392\n",
       "bytes_in                        1392\n",
       "bytes_out                       1392\n",
       "packets_in                      1392\n",
       "packets_out                     1392\n",
       "io_bytes_ratio                  1392\n",
       "io_packet_ratio                 1392\n",
       "new_connections                 1392\n",
       "syn_count                       1392\n",
       "fin_count                       1392\n",
       "rst_count                       1392\n",
       "syn_fin_ratio                   1392\n",
       "connection_termination_ratio    1392\n",
       "retransmission_count            1392\n",
       "retransmission_rate             1392\n",
       "internal_external_ratio         1392\n",
       "ttl_mean                        1392\n",
       "ttl_std                         1392\n",
       "http_get_count                  1392\n",
       "http_post_count                 1392\n",
       "http_other_count                1392\n",
       "is_baseline                      174\n",
       "file_source                     1392\n",
       "dtype: int64"
      ]
     },
     "metadata": {},
     "output_type": "display_data"
    },
    {
     "data": {
      "text/plain": [
       "'--------------------'"
      ]
     },
     "metadata": {},
     "output_type": "display_data"
    },
    {
     "data": {
      "text/plain": [
       "\"dataframe's column stats are :\""
      ]
     },
     "metadata": {},
     "output_type": "display_data"
    },
    {
     "data": {
      "text/plain": [
       "'window_id skewness is : -0.3905268184867297'"
      ]
     },
     "metadata": {},
     "output_type": "display_data"
    },
    {
     "data": {
      "text/plain": [
       "'window_id kurtosis is : -1.5627325115239508'"
      ]
     },
     "metadata": {},
     "output_type": "display_data"
    },
    {
     "data": {
      "text/plain": [
       "'window_start skewness is : -0.3905268184849369'"
      ]
     },
     "metadata": {},
     "output_type": "display_data"
    },
    {
     "data": {
      "text/plain": [
       "'window_start kurtosis is : -1.5627325115248845'"
      ]
     },
     "metadata": {},
     "output_type": "display_data"
    },
    {
     "data": {
      "text/plain": [
       "'packet_count skewness is : 10.644844139760432'"
      ]
     },
     "metadata": {},
     "output_type": "display_data"
    },
    {
     "data": {
      "text/plain": [
       "'packet_count kurtosis is : 121.28649256122323'"
      ]
     },
     "metadata": {},
     "output_type": "display_data"
    },
    {
     "data": {
      "text/plain": [
       "'bytes_per_second skewness is : 10.691596146922224'"
      ]
     },
     "metadata": {},
     "output_type": "display_data"
    },
    {
     "data": {
      "text/plain": [
       "'bytes_per_second kurtosis is : 122.15056633779719'"
      ]
     },
     "metadata": {},
     "output_type": "display_data"
    },
    {
     "data": {
      "text/plain": [
       "'avg_packet_size skewness is : 0.5486841663581106'"
      ]
     },
     "metadata": {},
     "output_type": "display_data"
    },
    {
     "data": {
      "text/plain": [
       "'avg_packet_size kurtosis is : -0.2046414172670037'"
      ]
     },
     "metadata": {},
     "output_type": "display_data"
    },
    {
     "data": {
      "text/plain": [
       "'packet_size_std skewness is : -0.8208992357680078'"
      ]
     },
     "metadata": {},
     "output_type": "display_data"
    },
    {
     "data": {
      "text/plain": [
       "'packet_size_std kurtosis is : 0.09013985464637031'"
      ]
     },
     "metadata": {},
     "output_type": "display_data"
    },
    {
     "data": {
      "text/plain": [
       "'unique_protocols skewness is : nan'"
      ]
     },
     "metadata": {},
     "output_type": "display_data"
    },
    {
     "data": {
      "text/plain": [
       "'unique_protocols kurtosis is : nan'"
      ]
     },
     "metadata": {},
     "output_type": "display_data"
    },
    {
     "data": {
      "text/plain": [
       "'unique_src_ips skewness is : 1.1152020334725237'"
      ]
     },
     "metadata": {},
     "output_type": "display_data"
    },
    {
     "data": {
      "text/plain": [
       "'unique_src_ips kurtosis is : 1.3306589218877312'"
      ]
     },
     "metadata": {},
     "output_type": "display_data"
    },
    {
     "data": {
      "text/plain": [
       "'unique_dst_ips skewness is : 1.1176332454769384'"
      ]
     },
     "metadata": {},
     "output_type": "display_data"
    },
    {
     "data": {
      "text/plain": [
       "'unique_dst_ips kurtosis is : 1.5478879882652565'"
      ]
     },
     "metadata": {},
     "output_type": "display_data"
    },
    {
     "data": {
      "text/plain": [
       "'unique_src_ports skewness is : 2.1522328525201253'"
      ]
     },
     "metadata": {},
     "output_type": "display_data"
    },
    {
     "data": {
      "text/plain": [
       "'unique_src_ports kurtosis is : 5.800839939345552'"
      ]
     },
     "metadata": {},
     "output_type": "display_data"
    },
    {
     "data": {
      "text/plain": [
       "'unique_dst_ports skewness is : 2.206948889168174'"
      ]
     },
     "metadata": {},
     "output_type": "display_data"
    },
    {
     "data": {
      "text/plain": [
       "'unique_dst_ports kurtosis is : 6.733716894462461'"
      ]
     },
     "metadata": {},
     "output_type": "display_data"
    },
    {
     "data": {
      "text/plain": [
       "'unique_ip_pairs skewness is : 1.13946636002575'"
      ]
     },
     "metadata": {},
     "output_type": "display_data"
    },
    {
     "data": {
      "text/plain": [
       "'unique_ip_pairs kurtosis is : 1.4385250061521448'"
      ]
     },
     "metadata": {},
     "output_type": "display_data"
    },
    {
     "data": {
      "text/plain": [
       "'unique_port_pairs skewness is : 2.286157543297734'"
      ]
     },
     "metadata": {},
     "output_type": "display_data"
    },
    {
     "data": {
      "text/plain": [
       "'unique_port_pairs kurtosis is : 6.6636864537923515'"
      ]
     },
     "metadata": {},
     "output_type": "display_data"
    },
    {
     "data": {
      "text/plain": [
       "'unique_connections skewness is : 2.513565258518751'"
      ]
     },
     "metadata": {},
     "output_type": "display_data"
    },
    {
     "data": {
      "text/plain": [
       "'unique_connections kurtosis is : 8.100001283450005'"
      ]
     },
     "metadata": {},
     "output_type": "display_data"
    },
    {
     "data": {
      "text/plain": [
       "'dns_query_count skewness is : 2.030543998344956'"
      ]
     },
     "metadata": {},
     "output_type": "display_data"
    },
    {
     "data": {
      "text/plain": [
       "'dns_query_count kurtosis is : 4.3358752502075975'"
      ]
     },
     "metadata": {},
     "output_type": "display_data"
    },
    {
     "data": {
      "text/plain": [
       "'bytes_in skewness is : 8.03020624079727'"
      ]
     },
     "metadata": {},
     "output_type": "display_data"
    },
    {
     "data": {
      "text/plain": [
       "'bytes_in kurtosis is : 73.64838718381075'"
      ]
     },
     "metadata": {},
     "output_type": "display_data"
    },
    {
     "data": {
      "text/plain": [
       "'bytes_out skewness is : 2.011957529473399'"
      ]
     },
     "metadata": {},
     "output_type": "display_data"
    },
    {
     "data": {
      "text/plain": [
       "'bytes_out kurtosis is : 3.4711529031096733'"
      ]
     },
     "metadata": {},
     "output_type": "display_data"
    },
    {
     "data": {
      "text/plain": [
       "'packets_in skewness is : 5.8908380278388295'"
      ]
     },
     "metadata": {},
     "output_type": "display_data"
    },
    {
     "data": {
      "text/plain": [
       "'packets_in kurtosis is : 42.563320415804554'"
      ]
     },
     "metadata": {},
     "output_type": "display_data"
    },
    {
     "data": {
      "text/plain": [
       "'packets_out skewness is : 1.6895636553964382'"
      ]
     },
     "metadata": {},
     "output_type": "display_data"
    },
    {
     "data": {
      "text/plain": [
       "'packets_out kurtosis is : 2.0601597987955476'"
      ]
     },
     "metadata": {},
     "output_type": "display_data"
    },
    {
     "data": {
      "text/plain": [
       "'io_bytes_ratio skewness is : 2.6139809676833954'"
      ]
     },
     "metadata": {},
     "output_type": "display_data"
    },
    {
     "data": {
      "text/plain": [
       "'io_bytes_ratio kurtosis is : 7.281816790285161'"
      ]
     },
     "metadata": {},
     "output_type": "display_data"
    },
    {
     "data": {
      "text/plain": [
       "'io_packet_ratio skewness is : 1.8426357101450603'"
      ]
     },
     "metadata": {},
     "output_type": "display_data"
    },
    {
     "data": {
      "text/plain": [
       "'io_packet_ratio kurtosis is : 6.517333283347888'"
      ]
     },
     "metadata": {},
     "output_type": "display_data"
    },
    {
     "data": {
      "text/plain": [
       "'new_connections skewness is : 3.4016381484221316'"
      ]
     },
     "metadata": {},
     "output_type": "display_data"
    },
    {
     "data": {
      "text/plain": [
       "'new_connections kurtosis is : 18.416905243142395'"
      ]
     },
     "metadata": {},
     "output_type": "display_data"
    },
    {
     "data": {
      "text/plain": [
       "'syn_count skewness is : 3.4016381484221316'"
      ]
     },
     "metadata": {},
     "output_type": "display_data"
    },
    {
     "data": {
      "text/plain": [
       "'syn_count kurtosis is : 18.416905243142395'"
      ]
     },
     "metadata": {},
     "output_type": "display_data"
    },
    {
     "data": {
      "text/plain": [
       "'fin_count skewness is : 1.952415796945711'"
      ]
     },
     "metadata": {},
     "output_type": "display_data"
    },
    {
     "data": {
      "text/plain": [
       "'fin_count kurtosis is : 5.303543950469708'"
      ]
     },
     "metadata": {},
     "output_type": "display_data"
    },
    {
     "data": {
      "text/plain": [
       "'rst_count skewness is : 9.511670612737587'"
      ]
     },
     "metadata": {},
     "output_type": "display_data"
    },
    {
     "data": {
      "text/plain": [
       "'rst_count kurtosis is : 92.49259621364757'"
      ]
     },
     "metadata": {},
     "output_type": "display_data"
    },
    {
     "data": {
      "text/plain": [
       "'syn_fin_ratio skewness is : 3.5291586009115337'"
      ]
     },
     "metadata": {},
     "output_type": "display_data"
    },
    {
     "data": {
      "text/plain": [
       "'syn_fin_ratio kurtosis is : 16.78164190034353'"
      ]
     },
     "metadata": {},
     "output_type": "display_data"
    },
    {
     "data": {
      "text/plain": [
       "'connection_termination_ratio skewness is : 4.334031820098049'"
      ]
     },
     "metadata": {},
     "output_type": "display_data"
    },
    {
     "data": {
      "text/plain": [
       "'connection_termination_ratio kurtosis is : 23.15703476161514'"
      ]
     },
     "metadata": {},
     "output_type": "display_data"
    },
    {
     "data": {
      "text/plain": [
       "'retransmission_count skewness is : 6.87656098886904'"
      ]
     },
     "metadata": {},
     "output_type": "display_data"
    },
    {
     "data": {
      "text/plain": [
       "'retransmission_count kurtosis is : 56.44565251120023'"
      ]
     },
     "metadata": {},
     "output_type": "display_data"
    },
    {
     "data": {
      "text/plain": [
       "'retransmission_rate skewness is : 2.6410989010632413'"
      ]
     },
     "metadata": {},
     "output_type": "display_data"
    },
    {
     "data": {
      "text/plain": [
       "'retransmission_rate kurtosis is : 9.229998914030993'"
      ]
     },
     "metadata": {},
     "output_type": "display_data"
    },
    {
     "data": {
      "text/plain": [
       "'internal_external_ratio skewness is : 0.45247453919407266'"
      ]
     },
     "metadata": {},
     "output_type": "display_data"
    },
    {
     "data": {
      "text/plain": [
       "'internal_external_ratio kurtosis is : -0.5785380777505074'"
      ]
     },
     "metadata": {},
     "output_type": "display_data"
    },
    {
     "data": {
      "text/plain": [
       "'ttl_mean skewness is : 5.433255806797869'"
      ]
     },
     "metadata": {},
     "output_type": "display_data"
    },
    {
     "data": {
      "text/plain": [
       "'ttl_mean kurtosis is : 33.50473854018173'"
      ]
     },
     "metadata": {},
     "output_type": "display_data"
    },
    {
     "data": {
      "text/plain": [
       "'ttl_std skewness is : 1.4130116742293368'"
      ]
     },
     "metadata": {},
     "output_type": "display_data"
    },
    {
     "data": {
      "text/plain": [
       "'ttl_std kurtosis is : 1.8641475030255243'"
      ]
     },
     "metadata": {},
     "output_type": "display_data"
    },
    {
     "data": {
      "text/plain": [
       "'http_get_count skewness is : 6.365809407433176'"
      ]
     },
     "metadata": {},
     "output_type": "display_data"
    },
    {
     "data": {
      "text/plain": [
       "'http_get_count kurtosis is : 38.52352941176473'"
      ]
     },
     "metadata": {},
     "output_type": "display_data"
    },
    {
     "data": {
      "text/plain": [
       "'http_post_count skewness is : nan'"
      ]
     },
     "metadata": {},
     "output_type": "display_data"
    },
    {
     "data": {
      "text/plain": [
       "'http_post_count kurtosis is : nan'"
      ]
     },
     "metadata": {},
     "output_type": "display_data"
    },
    {
     "data": {
      "text/plain": [
       "'http_other_count skewness is : 13.076917845838937'"
      ]
     },
     "metadata": {},
     "output_type": "display_data"
    },
    {
     "data": {
      "text/plain": [
       "'http_other_count kurtosis is : 169.00578034682079'"
      ]
     },
     "metadata": {},
     "output_type": "display_data"
    },
    {
     "name": "stdout",
     "output_type": "stream",
     "text": [
      "An error occured:  numpy boolean subtract, the `-` operator, is not supported, use the bitwise_xor, the `^` operator, or the logical_xor function instead.\n"
     ]
    },
    {
     "data": {
      "text/plain": [
       "'----------------------------------------------------------------------------------------------------'"
      ]
     },
     "metadata": {},
     "output_type": "display_data"
    },
    {
     "data": {
      "text/plain": [
       "'--------------------'"
      ]
     },
     "metadata": {},
     "output_type": "display_data"
    },
    {
     "data": {
      "text/plain": [
       "\"dataframe's shape is :\""
      ]
     },
     "metadata": {},
     "output_type": "display_data"
    },
    {
     "data": {
      "text/plain": [
       "(175, 10)"
      ]
     },
     "metadata": {},
     "output_type": "display_data"
    },
    {
     "data": {
      "text/plain": [
       "'--------------------'"
      ]
     },
     "metadata": {},
     "output_type": "display_data"
    },
    {
     "data": {
      "text/plain": [
       "\"dataframe's columns are :\""
      ]
     },
     "metadata": {},
     "output_type": "display_data"
    },
    {
     "data": {
      "text/plain": [
       "Index(['window_start', 'packet_count', 'bytes_per_second', 'unique_protocols',\n",
       "       'unique_src_ips', 'unique_dst_ips', 'unique_src_ports',\n",
       "       'unique_dst_ports', 'avg_packet_size', 'is_baseline'],\n",
       "      dtype='object')"
      ]
     },
     "metadata": {},
     "output_type": "display_data"
    },
    {
     "data": {
      "text/plain": [
       "'--------------------'"
      ]
     },
     "metadata": {},
     "output_type": "display_data"
    },
    {
     "data": {
      "text/plain": [
       "\"dataframe's info is :\""
      ]
     },
     "metadata": {},
     "output_type": "display_data"
    },
    {
     "name": "stdout",
     "output_type": "stream",
     "text": [
      "<class 'pandas.core.frame.DataFrame'>\n",
      "RangeIndex: 175 entries, 0 to 174\n",
      "Data columns (total 10 columns):\n",
      " #   Column            Non-Null Count  Dtype  \n",
      "---  ------            --------------  -----  \n",
      " 0   window_start      175 non-null    int64  \n",
      " 1   packet_count      175 non-null    int64  \n",
      " 2   bytes_per_second  175 non-null    float64\n",
      " 3   unique_protocols  175 non-null    int64  \n",
      " 4   unique_src_ips    175 non-null    int64  \n",
      " 5   unique_dst_ips    175 non-null    int64  \n",
      " 6   unique_src_ports  175 non-null    int64  \n",
      " 7   unique_dst_ports  175 non-null    int64  \n",
      " 8   avg_packet_size   175 non-null    float64\n",
      " 9   is_baseline       175 non-null    bool   \n",
      "dtypes: bool(1), float64(2), int64(7)\n",
      "memory usage: 12.6 KB\n"
     ]
    },
    {
     "data": {
      "text/plain": [
       "None"
      ]
     },
     "metadata": {},
     "output_type": "display_data"
    },
    {
     "data": {
      "text/plain": [
       "'--------------------'"
      ]
     },
     "metadata": {},
     "output_type": "display_data"
    },
    {
     "data": {
      "text/plain": [
       "\"dataframe's head is :\""
      ]
     },
     "metadata": {},
     "output_type": "display_data"
    },
    {
     "data": {
      "text/html": [
       "<div>\n",
       "<style scoped>\n",
       "    .dataframe tbody tr th:only-of-type {\n",
       "        vertical-align: middle;\n",
       "    }\n",
       "\n",
       "    .dataframe tbody tr th {\n",
       "        vertical-align: top;\n",
       "    }\n",
       "\n",
       "    .dataframe thead th {\n",
       "        text-align: right;\n",
       "    }\n",
       "</style>\n",
       "<table border=\"1\" class=\"dataframe\">\n",
       "  <thead>\n",
       "    <tr style=\"text-align: right;\">\n",
       "      <th></th>\n",
       "      <th>window_start</th>\n",
       "      <th>packet_count</th>\n",
       "      <th>bytes_per_second</th>\n",
       "      <th>unique_protocols</th>\n",
       "      <th>unique_src_ips</th>\n",
       "      <th>unique_dst_ips</th>\n",
       "      <th>unique_src_ports</th>\n",
       "      <th>unique_dst_ports</th>\n",
       "      <th>avg_packet_size</th>\n",
       "      <th>is_baseline</th>\n",
       "    </tr>\n",
       "  </thead>\n",
       "  <tbody>\n",
       "    <tr>\n",
       "      <th>0</th>\n",
       "      <td>1742052660</td>\n",
       "      <td>327</td>\n",
       "      <td>1507.800000</td>\n",
       "      <td>0</td>\n",
       "      <td>17</td>\n",
       "      <td>18</td>\n",
       "      <td>37</td>\n",
       "      <td>33</td>\n",
       "      <td>276.660550</td>\n",
       "      <td>True</td>\n",
       "    </tr>\n",
       "    <tr>\n",
       "      <th>1</th>\n",
       "      <td>1742052720</td>\n",
       "      <td>3579</td>\n",
       "      <td>41266.650000</td>\n",
       "      <td>0</td>\n",
       "      <td>23</td>\n",
       "      <td>23</td>\n",
       "      <td>82</td>\n",
       "      <td>80</td>\n",
       "      <td>691.813076</td>\n",
       "      <td>True</td>\n",
       "    </tr>\n",
       "    <tr>\n",
       "      <th>2</th>\n",
       "      <td>1742052780</td>\n",
       "      <td>4876</td>\n",
       "      <td>54145.933333</td>\n",
       "      <td>0</td>\n",
       "      <td>23</td>\n",
       "      <td>23</td>\n",
       "      <td>99</td>\n",
       "      <td>90</td>\n",
       "      <td>666.274815</td>\n",
       "      <td>True</td>\n",
       "    </tr>\n",
       "    <tr>\n",
       "      <th>3</th>\n",
       "      <td>1742052840</td>\n",
       "      <td>1087</td>\n",
       "      <td>8822.283333</td>\n",
       "      <td>0</td>\n",
       "      <td>22</td>\n",
       "      <td>22</td>\n",
       "      <td>50</td>\n",
       "      <td>48</td>\n",
       "      <td>486.970561</td>\n",
       "      <td>True</td>\n",
       "    </tr>\n",
       "    <tr>\n",
       "      <th>4</th>\n",
       "      <td>1742052900</td>\n",
       "      <td>2776</td>\n",
       "      <td>35793.000000</td>\n",
       "      <td>0</td>\n",
       "      <td>21</td>\n",
       "      <td>21</td>\n",
       "      <td>43</td>\n",
       "      <td>42</td>\n",
       "      <td>773.623919</td>\n",
       "      <td>True</td>\n",
       "    </tr>\n",
       "  </tbody>\n",
       "</table>\n",
       "</div>"
      ],
      "text/plain": [
       "   window_start  packet_count  bytes_per_second  unique_protocols  \\\n",
       "0    1742052660           327       1507.800000                 0   \n",
       "1    1742052720          3579      41266.650000                 0   \n",
       "2    1742052780          4876      54145.933333                 0   \n",
       "3    1742052840          1087       8822.283333                 0   \n",
       "4    1742052900          2776      35793.000000                 0   \n",
       "\n",
       "   unique_src_ips  unique_dst_ips  unique_src_ports  unique_dst_ports  \\\n",
       "0              17              18                37                33   \n",
       "1              23              23                82                80   \n",
       "2              23              23                99                90   \n",
       "3              22              22                50                48   \n",
       "4              21              21                43                42   \n",
       "\n",
       "   avg_packet_size  is_baseline  \n",
       "0       276.660550         True  \n",
       "1       691.813076         True  \n",
       "2       666.274815         True  \n",
       "3       486.970561         True  \n",
       "4       773.623919         True  "
      ]
     },
     "metadata": {},
     "output_type": "display_data"
    },
    {
     "data": {
      "text/plain": [
       "'--------------------'"
      ]
     },
     "metadata": {},
     "output_type": "display_data"
    },
    {
     "data": {
      "text/plain": [
       "\"dataframe's tail is :\""
      ]
     },
     "metadata": {},
     "output_type": "display_data"
    },
    {
     "data": {
      "text/html": [
       "<div>\n",
       "<style scoped>\n",
       "    .dataframe tbody tr th:only-of-type {\n",
       "        vertical-align: middle;\n",
       "    }\n",
       "\n",
       "    .dataframe tbody tr th {\n",
       "        vertical-align: top;\n",
       "    }\n",
       "\n",
       "    .dataframe thead th {\n",
       "        text-align: right;\n",
       "    }\n",
       "</style>\n",
       "<table border=\"1\" class=\"dataframe\">\n",
       "  <thead>\n",
       "    <tr style=\"text-align: right;\">\n",
       "      <th></th>\n",
       "      <th>window_start</th>\n",
       "      <th>packet_count</th>\n",
       "      <th>bytes_per_second</th>\n",
       "      <th>unique_protocols</th>\n",
       "      <th>unique_src_ips</th>\n",
       "      <th>unique_dst_ips</th>\n",
       "      <th>unique_src_ports</th>\n",
       "      <th>unique_dst_ports</th>\n",
       "      <th>avg_packet_size</th>\n",
       "      <th>is_baseline</th>\n",
       "    </tr>\n",
       "  </thead>\n",
       "  <tbody>\n",
       "    <tr>\n",
       "      <th>170</th>\n",
       "      <td>1741698900</td>\n",
       "      <td>301</td>\n",
       "      <td>811.133333</td>\n",
       "      <td>0</td>\n",
       "      <td>18</td>\n",
       "      <td>20</td>\n",
       "      <td>28</td>\n",
       "      <td>25</td>\n",
       "      <td>161.687708</td>\n",
       "      <td>True</td>\n",
       "    </tr>\n",
       "    <tr>\n",
       "      <th>171</th>\n",
       "      <td>1741698960</td>\n",
       "      <td>1027</td>\n",
       "      <td>7941.333333</td>\n",
       "      <td>0</td>\n",
       "      <td>23</td>\n",
       "      <td>26</td>\n",
       "      <td>37</td>\n",
       "      <td>33</td>\n",
       "      <td>463.953262</td>\n",
       "      <td>True</td>\n",
       "    </tr>\n",
       "    <tr>\n",
       "      <th>172</th>\n",
       "      <td>1741699020</td>\n",
       "      <td>300</td>\n",
       "      <td>1498.633333</td>\n",
       "      <td>0</td>\n",
       "      <td>21</td>\n",
       "      <td>24</td>\n",
       "      <td>34</td>\n",
       "      <td>31</td>\n",
       "      <td>299.726667</td>\n",
       "      <td>True</td>\n",
       "    </tr>\n",
       "    <tr>\n",
       "      <th>173</th>\n",
       "      <td>1741699080</td>\n",
       "      <td>341</td>\n",
       "      <td>1177.633333</td>\n",
       "      <td>0</td>\n",
       "      <td>19</td>\n",
       "      <td>18</td>\n",
       "      <td>48</td>\n",
       "      <td>48</td>\n",
       "      <td>207.208211</td>\n",
       "      <td>True</td>\n",
       "    </tr>\n",
       "    <tr>\n",
       "      <th>174</th>\n",
       "      <td>1741699140</td>\n",
       "      <td>72</td>\n",
       "      <td>442.166667</td>\n",
       "      <td>0</td>\n",
       "      <td>11</td>\n",
       "      <td>12</td>\n",
       "      <td>12</td>\n",
       "      <td>11</td>\n",
       "      <td>368.472222</td>\n",
       "      <td>True</td>\n",
       "    </tr>\n",
       "  </tbody>\n",
       "</table>\n",
       "</div>"
      ],
      "text/plain": [
       "     window_start  packet_count  bytes_per_second  unique_protocols  \\\n",
       "170    1741698900           301        811.133333                 0   \n",
       "171    1741698960          1027       7941.333333                 0   \n",
       "172    1741699020           300       1498.633333                 0   \n",
       "173    1741699080           341       1177.633333                 0   \n",
       "174    1741699140            72        442.166667                 0   \n",
       "\n",
       "     unique_src_ips  unique_dst_ips  unique_src_ports  unique_dst_ports  \\\n",
       "170              18              20                28                25   \n",
       "171              23              26                37                33   \n",
       "172              21              24                34                31   \n",
       "173              19              18                48                48   \n",
       "174              11              12                12                11   \n",
       "\n",
       "     avg_packet_size  is_baseline  \n",
       "170       161.687708         True  \n",
       "171       463.953262         True  \n",
       "172       299.726667         True  \n",
       "173       207.208211         True  \n",
       "174       368.472222         True  "
      ]
     },
     "metadata": {},
     "output_type": "display_data"
    },
    {
     "data": {
      "text/plain": [
       "'--------------------'"
      ]
     },
     "metadata": {},
     "output_type": "display_data"
    },
    {
     "data": {
      "text/plain": [
       "\"dataframe's describe is :\""
      ]
     },
     "metadata": {},
     "output_type": "display_data"
    },
    {
     "data": {
      "text/html": [
       "<div>\n",
       "<style scoped>\n",
       "    .dataframe tbody tr th:only-of-type {\n",
       "        vertical-align: middle;\n",
       "    }\n",
       "\n",
       "    .dataframe tbody tr th {\n",
       "        vertical-align: top;\n",
       "    }\n",
       "\n",
       "    .dataframe thead th {\n",
       "        text-align: right;\n",
       "    }\n",
       "</style>\n",
       "<table border=\"1\" class=\"dataframe\">\n",
       "  <thead>\n",
       "    <tr style=\"text-align: right;\">\n",
       "      <th></th>\n",
       "      <th>window_start</th>\n",
       "      <th>packet_count</th>\n",
       "      <th>bytes_per_second</th>\n",
       "      <th>unique_protocols</th>\n",
       "      <th>unique_src_ips</th>\n",
       "      <th>unique_dst_ips</th>\n",
       "      <th>unique_src_ports</th>\n",
       "      <th>unique_dst_ports</th>\n",
       "      <th>avg_packet_size</th>\n",
       "    </tr>\n",
       "  </thead>\n",
       "  <tbody>\n",
       "    <tr>\n",
       "      <th>count</th>\n",
       "      <td>1.750000e+02</td>\n",
       "      <td>175.000000</td>\n",
       "      <td>1.750000e+02</td>\n",
       "      <td>175.0</td>\n",
       "      <td>175.000000</td>\n",
       "      <td>175.000000</td>\n",
       "      <td>175.000000</td>\n",
       "      <td>175.000000</td>\n",
       "      <td>175.000000</td>\n",
       "    </tr>\n",
       "    <tr>\n",
       "      <th>mean</th>\n",
       "      <td>1.741894e+09</td>\n",
       "      <td>4799.480000</td>\n",
       "      <td>7.298922e+04</td>\n",
       "      <td>0.0</td>\n",
       "      <td>20.114286</td>\n",
       "      <td>21.554286</td>\n",
       "      <td>51.211429</td>\n",
       "      <td>47.040000</td>\n",
       "      <td>481.581404</td>\n",
       "    </tr>\n",
       "    <tr>\n",
       "      <th>std</th>\n",
       "      <td>1.501099e+05</td>\n",
       "      <td>27274.283127</td>\n",
       "      <td>4.808324e+05</td>\n",
       "      <td>0.0</td>\n",
       "      <td>8.710449</td>\n",
       "      <td>9.309874</td>\n",
       "      <td>36.289796</td>\n",
       "      <td>32.176482</td>\n",
       "      <td>234.732897</td>\n",
       "    </tr>\n",
       "    <tr>\n",
       "      <th>min</th>\n",
       "      <td>1.741696e+09</td>\n",
       "      <td>25.000000</td>\n",
       "      <td>2.988333e+01</td>\n",
       "      <td>0.0</td>\n",
       "      <td>5.000000</td>\n",
       "      <td>5.000000</td>\n",
       "      <td>5.000000</td>\n",
       "      <td>5.000000</td>\n",
       "      <td>71.720000</td>\n",
       "    </tr>\n",
       "    <tr>\n",
       "      <th>25%</th>\n",
       "      <td>1.741698e+09</td>\n",
       "      <td>406.500000</td>\n",
       "      <td>2.383317e+03</td>\n",
       "      <td>0.0</td>\n",
       "      <td>14.000000</td>\n",
       "      <td>16.000000</td>\n",
       "      <td>28.500000</td>\n",
       "      <td>26.000000</td>\n",
       "      <td>281.135975</td>\n",
       "    </tr>\n",
       "    <tr>\n",
       "      <th>50%</th>\n",
       "      <td>1.741951e+09</td>\n",
       "      <td>922.000000</td>\n",
       "      <td>6.818617e+03</td>\n",
       "      <td>0.0</td>\n",
       "      <td>18.000000</td>\n",
       "      <td>19.000000</td>\n",
       "      <td>42.000000</td>\n",
       "      <td>39.000000</td>\n",
       "      <td>453.500824</td>\n",
       "    </tr>\n",
       "    <tr>\n",
       "      <th>75%</th>\n",
       "      <td>1.742053e+09</td>\n",
       "      <td>2474.500000</td>\n",
       "      <td>2.453428e+04</td>\n",
       "      <td>0.0</td>\n",
       "      <td>24.000000</td>\n",
       "      <td>26.000000</td>\n",
       "      <td>62.500000</td>\n",
       "      <td>56.500000</td>\n",
       "      <td>666.919693</td>\n",
       "    </tr>\n",
       "    <tr>\n",
       "      <th>max</th>\n",
       "      <td>1.742056e+09</td>\n",
       "      <td>334264.000000</td>\n",
       "      <td>5.892223e+06</td>\n",
       "      <td>0.0</td>\n",
       "      <td>54.000000</td>\n",
       "      <td>58.000000</td>\n",
       "      <td>228.000000</td>\n",
       "      <td>227.000000</td>\n",
       "      <td>1222.955393</td>\n",
       "    </tr>\n",
       "  </tbody>\n",
       "</table>\n",
       "</div>"
      ],
      "text/plain": [
       "       window_start   packet_count  bytes_per_second  unique_protocols  \\\n",
       "count  1.750000e+02     175.000000      1.750000e+02             175.0   \n",
       "mean   1.741894e+09    4799.480000      7.298922e+04               0.0   \n",
       "std    1.501099e+05   27274.283127      4.808324e+05               0.0   \n",
       "min    1.741696e+09      25.000000      2.988333e+01               0.0   \n",
       "25%    1.741698e+09     406.500000      2.383317e+03               0.0   \n",
       "50%    1.741951e+09     922.000000      6.818617e+03               0.0   \n",
       "75%    1.742053e+09    2474.500000      2.453428e+04               0.0   \n",
       "max    1.742056e+09  334264.000000      5.892223e+06               0.0   \n",
       "\n",
       "       unique_src_ips  unique_dst_ips  unique_src_ports  unique_dst_ports  \\\n",
       "count      175.000000      175.000000        175.000000        175.000000   \n",
       "mean        20.114286       21.554286         51.211429         47.040000   \n",
       "std          8.710449        9.309874         36.289796         32.176482   \n",
       "min          5.000000        5.000000          5.000000          5.000000   \n",
       "25%         14.000000       16.000000         28.500000         26.000000   \n",
       "50%         18.000000       19.000000         42.000000         39.000000   \n",
       "75%         24.000000       26.000000         62.500000         56.500000   \n",
       "max         54.000000       58.000000        228.000000        227.000000   \n",
       "\n",
       "       avg_packet_size  \n",
       "count       175.000000  \n",
       "mean        481.581404  \n",
       "std         234.732897  \n",
       "min          71.720000  \n",
       "25%         281.135975  \n",
       "50%         453.500824  \n",
       "75%         666.919693  \n",
       "max        1222.955393  "
      ]
     },
     "metadata": {},
     "output_type": "display_data"
    },
    {
     "data": {
      "text/plain": [
       "'--------------------'"
      ]
     },
     "metadata": {},
     "output_type": "display_data"
    },
    {
     "data": {
      "text/plain": [
       "\"dataframe's null values are :\""
      ]
     },
     "metadata": {},
     "output_type": "display_data"
    },
    {
     "data": {
      "text/plain": [
       "window_start        0\n",
       "packet_count        0\n",
       "bytes_per_second    0\n",
       "unique_protocols    0\n",
       "unique_src_ips      0\n",
       "unique_dst_ips      0\n",
       "unique_src_ports    0\n",
       "unique_dst_ports    0\n",
       "avg_packet_size     0\n",
       "is_baseline         0\n",
       "dtype: int64"
      ]
     },
     "metadata": {},
     "output_type": "display_data"
    },
    {
     "data": {
      "text/plain": [
       "'--------------------'"
      ]
     },
     "metadata": {},
     "output_type": "display_data"
    },
    {
     "data": {
      "text/plain": [
       "\"dataframe's unique values are :\""
      ]
     },
     "metadata": {},
     "output_type": "display_data"
    },
    {
     "data": {
      "text/plain": [
       "window_start        175\n",
       "packet_count        172\n",
       "bytes_per_second    175\n",
       "unique_protocols      1\n",
       "unique_src_ips       39\n",
       "unique_dst_ips       40\n",
       "unique_src_ports     84\n",
       "unique_dst_ports     83\n",
       "avg_packet_size     175\n",
       "is_baseline           1\n",
       "dtype: int64"
      ]
     },
     "metadata": {},
     "output_type": "display_data"
    },
    {
     "data": {
      "text/plain": [
       "'--------------------'"
      ]
     },
     "metadata": {},
     "output_type": "display_data"
    },
    {
     "data": {
      "text/plain": [
       "\"dataframe's data types are :\""
      ]
     },
     "metadata": {},
     "output_type": "display_data"
    },
    {
     "data": {
      "text/plain": [
       "window_start          int64\n",
       "packet_count          int64\n",
       "bytes_per_second    float64\n",
       "unique_protocols      int64\n",
       "unique_src_ips        int64\n",
       "unique_dst_ips        int64\n",
       "unique_src_ports      int64\n",
       "unique_dst_ports      int64\n",
       "avg_packet_size     float64\n",
       "is_baseline            bool\n",
       "dtype: object"
      ]
     },
     "metadata": {},
     "output_type": "display_data"
    },
    {
     "data": {
      "text/plain": [
       "'--------------------'"
      ]
     },
     "metadata": {},
     "output_type": "display_data"
    },
    {
     "data": {
      "text/plain": [
       "\"dataframe's memory usage is :\""
      ]
     },
     "metadata": {},
     "output_type": "display_data"
    },
    {
     "data": {
      "text/plain": [
       "Index                132\n",
       "window_start        1400\n",
       "packet_count        1400\n",
       "bytes_per_second    1400\n",
       "unique_protocols    1400\n",
       "unique_src_ips      1400\n",
       "unique_dst_ips      1400\n",
       "unique_src_ports    1400\n",
       "unique_dst_ports    1400\n",
       "avg_packet_size     1400\n",
       "is_baseline          175\n",
       "dtype: int64"
      ]
     },
     "metadata": {},
     "output_type": "display_data"
    },
    {
     "data": {
      "text/plain": [
       "'--------------------'"
      ]
     },
     "metadata": {},
     "output_type": "display_data"
    },
    {
     "data": {
      "text/plain": [
       "\"dataframe's column stats are :\""
      ]
     },
     "metadata": {},
     "output_type": "display_data"
    },
    {
     "data": {
      "text/plain": [
       "'window_start skewness is : -0.39900324753886196'"
      ]
     },
     "metadata": {},
     "output_type": "display_data"
    },
    {
     "data": {
      "text/plain": [
       "'window_start kurtosis is : -1.5561552226019582'"
      ]
     },
     "metadata": {},
     "output_type": "display_data"
    },
    {
     "data": {
      "text/plain": [
       "'packet_count skewness is : 10.675619602830407'"
      ]
     },
     "metadata": {},
     "output_type": "display_data"
    },
    {
     "data": {
      "text/plain": [
       "'packet_count kurtosis is : 122.00085002345237'"
      ]
     },
     "metadata": {},
     "output_type": "display_data"
    },
    {
     "data": {
      "text/plain": [
       "'bytes_per_second skewness is : 10.722756681077378'"
      ]
     },
     "metadata": {},
     "output_type": "display_data"
    },
    {
     "data": {
      "text/plain": [
       "'bytes_per_second kurtosis is : 122.87418158814074'"
      ]
     },
     "metadata": {},
     "output_type": "display_data"
    },
    {
     "data": {
      "text/plain": [
       "'unique_protocols skewness is : nan'"
      ]
     },
     "metadata": {},
     "output_type": "display_data"
    },
    {
     "data": {
      "text/plain": [
       "'unique_protocols kurtosis is : nan'"
      ]
     },
     "metadata": {},
     "output_type": "display_data"
    },
    {
     "data": {
      "text/plain": [
       "'unique_src_ips skewness is : 1.121307644203919'"
      ]
     },
     "metadata": {},
     "output_type": "display_data"
    },
    {
     "data": {
      "text/plain": [
       "'unique_src_ips kurtosis is : 1.3442719562197514'"
      ]
     },
     "metadata": {},
     "output_type": "display_data"
    },
    {
     "data": {
      "text/plain": [
       "'unique_dst_ips skewness is : 1.1240590254072715'"
      ]
     },
     "metadata": {},
     "output_type": "display_data"
    },
    {
     "data": {
      "text/plain": [
       "'unique_dst_ips kurtosis is : 1.564047259975692'"
      ]
     },
     "metadata": {},
     "output_type": "display_data"
    },
    {
     "data": {
      "text/plain": [
       "'unique_src_ports skewness is : 2.159878793315951'"
      ]
     },
     "metadata": {},
     "output_type": "display_data"
    },
    {
     "data": {
      "text/plain": [
       "'unique_src_ports kurtosis is : 5.840236281076569'"
      ]
     },
     "metadata": {},
     "output_type": "display_data"
    },
    {
     "data": {
      "text/plain": [
       "'unique_dst_ports skewness is : 2.2147486614149257'"
      ]
     },
     "metadata": {},
     "output_type": "display_data"
    },
    {
     "data": {
      "text/plain": [
       "'unique_dst_ports kurtosis is : 6.775711801960757'"
      ]
     },
     "metadata": {},
     "output_type": "display_data"
    },
    {
     "data": {
      "text/plain": [
       "'avg_packet_size skewness is : 0.5559802027089125'"
      ]
     },
     "metadata": {},
     "output_type": "display_data"
    },
    {
     "data": {
      "text/plain": [
       "'avg_packet_size kurtosis is : -0.2044743299171592'"
      ]
     },
     "metadata": {},
     "output_type": "display_data"
    },
    {
     "name": "stdout",
     "output_type": "stream",
     "text": [
      "An error occured:  numpy boolean subtract, the `-` operator, is not supported, use the bitwise_xor, the `^` operator, or the logical_xor function instead.\n"
     ]
    },
    {
     "data": {
      "text/plain": [
       "[]"
      ]
     },
     "execution_count": 3,
     "metadata": {},
     "output_type": "execute_result"
    }
   ],
   "source": [
    "get_stats(adv_df)\n",
    "\n",
    "display(100*\"-\")\n",
    "\n",
    "get_stats(basic_df)"
   ]
  },
  {
   "cell_type": "code",
   "execution_count": 22,
   "metadata": {},
   "outputs": [],
   "source": [
    "\n",
    "\n",
    "def get_stats(dataframe = pd.DataFrame):\n",
    "\n",
    "    \"\"\"\n",
    "    This function returns the statistics of the given dataframe.\n",
    "\n",
    "    Parameters:\n",
    "    dataframe: pd.DataFrame\n",
    "        The dataframe to be analyzed.\n",
    "    \"\"\"\n",
    "    try :\n",
    "        display(\"--------------------\")\n",
    "        display(\"dataframe\\'s shape is :\")\n",
    "        display(dataframe.shape)\n",
    "        display(\"--------------------\")\n",
    "        display(\"dataframe\\'s columns are :\")\n",
    "        display(dataframe.columns)\n",
    "        display(\"--------------------\")\n",
    "        display(\"dataframe\\'s info is :\")\n",
    "        display(dataframe.info())\n",
    "        display(\"--------------------\")\n",
    "        display(\"dataframe\\'s head is :\")\n",
    "        display(dataframe.head())\n",
    "        display(\"--------------------\")\n",
    "        display(\"dataframe\\'s tail is :\")\n",
    "        display(dataframe.tail())\n",
    "        display(\"--------------------\")\n",
    "        display(\"dataframe\\'s describe is :\")\n",
    "        display(dataframe.describe())\n",
    "        display(\"--------------------\")\n",
    "        display(\"dataframe\\'s null values are :\")\n",
    "        display(dataframe.isnull().sum())\n",
    "        display(\"--------------------\")\n",
    "        display(\"dataframe\\'s unique values are :\")\n",
    "        display(dataframe.nunique())\n",
    "        display(\"--------------------\")\n",
    "        display(\"dataframe\\'s data types are :\")\n",
    "        display(dataframe.dtypes)\n",
    "        display(\"--------------------\")\n",
    "        display(\"dataframe\\'s memory usage is :\")\n",
    "        display(dataframe.memory_usage())\n",
    "        display(\"--------------------\")\n",
    "\n",
    "        ##scipy stats of the dataframe\n",
    "        display(\"dataframe\\'s column stats are :\")\n",
    "        ##skewness of the every column\n",
    "        for col in dataframe.columns:\n",
    "            framey = pd.DataFrame(\n",
    "                columns=[\"column name:\",\"skewness\", \"kurtosis\"],\n",
    "            )\n",
    "            #add incoming rows data to dataframe\n",
    "            framey = framey.add(\n",
    "                {\n",
    "                    \"column name\": col,\n",
    "                    \"skewness\": scipy.stats.skew(dataframe[col]),\n",
    "                    \"kurtosis\": scipy.stats.kurtosis(dataframe[col])\n",
    "                }\n",
    "            )\n",
    "        display(framey)\n",
    "        display(\"--------------------\")\n",
    "        ##correlation of the columns\n",
    "        display(\"dataframe\\'s correlation is :\")\n",
    "        display(dataframe.corr())\n",
    "        display(\"--------------------\")\n",
    "        ##covariance of the columns\n",
    "        display(\"dataframe\\'s covariance is :\")\n",
    "        display(dataframe.cov())\n",
    "        display(\"--------------------\")\n",
    "        ## chi scores\n",
    "        display(\"dataframe\\'s chi scores are :\")\n",
    "        display(dataframe.chisquare())\n",
    "        display(\"--------------------\")\n",
    "\n",
    "    except Exception as e:\n",
    "        print(\"An error occured: \", e)\n",
    "        return []"
   ]
  },
  {
   "cell_type": "code",
   "execution_count": 23,
   "metadata": {},
   "outputs": [
    {
     "data": {
      "text/plain": [
       "'--------------------'"
      ]
     },
     "metadata": {},
     "output_type": "display_data"
    },
    {
     "data": {
      "text/plain": [
       "\"dataframe's shape is :\""
      ]
     },
     "metadata": {},
     "output_type": "display_data"
    },
    {
     "data": {
      "text/plain": [
       "(182, 37)"
      ]
     },
     "metadata": {},
     "output_type": "display_data"
    },
    {
     "data": {
      "text/plain": [
       "'--------------------'"
      ]
     },
     "metadata": {},
     "output_type": "display_data"
    },
    {
     "data": {
      "text/plain": [
       "\"dataframe's columns are :\""
      ]
     },
     "metadata": {},
     "output_type": "display_data"
    },
    {
     "data": {
      "text/plain": [
       "Index(['window_id', 'window_start', 'packet_count', 'bytes_per_second',\n",
       "       'avg_packet_size', 'packet_size_std', 'unique_protocols',\n",
       "       'unique_src_ips', 'unique_dst_ips', 'unique_src_ports',\n",
       "       'unique_dst_ports', 'unique_ip_pairs', 'unique_port_pairs',\n",
       "       'unique_connections', 'dns_query_count', 'bytes_in', 'bytes_out',\n",
       "       'packets_in', 'packets_out', 'io_bytes_ratio', 'io_packet_ratio',\n",
       "       'new_connections', 'syn_count', 'fin_count', 'rst_count',\n",
       "       'syn_fin_ratio', 'connection_termination_ratio', 'retransmission_count',\n",
       "       'retransmission_rate', 'internal_external_ratio', 'ttl_mean', 'ttl_std',\n",
       "       'http_get_count', 'http_post_count', 'http_other_count', 'is_baseline',\n",
       "       'file_source'],\n",
       "      dtype='object')"
      ]
     },
     "metadata": {},
     "output_type": "display_data"
    },
    {
     "data": {
      "text/plain": [
       "'--------------------'"
      ]
     },
     "metadata": {},
     "output_type": "display_data"
    },
    {
     "data": {
      "text/plain": [
       "\"dataframe's info is :\""
      ]
     },
     "metadata": {},
     "output_type": "display_data"
    },
    {
     "name": "stdout",
     "output_type": "stream",
     "text": [
      "<class 'pandas.core.frame.DataFrame'>\n",
      "RangeIndex: 182 entries, 0 to 181\n",
      "Data columns (total 37 columns):\n",
      " #   Column                        Non-Null Count  Dtype  \n",
      "---  ------                        --------------  -----  \n",
      " 0   window_id                     182 non-null    int64  \n",
      " 1   window_start                  182 non-null    int64  \n",
      " 2   packet_count                  182 non-null    int64  \n",
      " 3   bytes_per_second              182 non-null    float64\n",
      " 4   avg_packet_size               182 non-null    float64\n",
      " 5   packet_size_std               182 non-null    float64\n",
      " 6   unique_protocols              182 non-null    int64  \n",
      " 7   unique_src_ips                182 non-null    int64  \n",
      " 8   unique_dst_ips                182 non-null    int64  \n",
      " 9   unique_src_ports              182 non-null    int64  \n",
      " 10  unique_dst_ports              182 non-null    int64  \n",
      " 11  unique_ip_pairs               182 non-null    int64  \n",
      " 12  unique_port_pairs             182 non-null    int64  \n",
      " 13  unique_connections            182 non-null    int64  \n",
      " 14  dns_query_count               182 non-null    int64  \n",
      " 15  bytes_in                      182 non-null    int64  \n",
      " 16  bytes_out                     182 non-null    int64  \n",
      " 17  packets_in                    182 non-null    int64  \n",
      " 18  packets_out                   182 non-null    int64  \n",
      " 19  io_bytes_ratio                182 non-null    float64\n",
      " 20  io_packet_ratio               182 non-null    float64\n",
      " 21  new_connections               182 non-null    int64  \n",
      " 22  syn_count                     182 non-null    int64  \n",
      " 23  fin_count                     182 non-null    int64  \n",
      " 24  rst_count                     182 non-null    int64  \n",
      " 25  syn_fin_ratio                 182 non-null    float64\n",
      " 26  connection_termination_ratio  182 non-null    float64\n",
      " 27  retransmission_count          182 non-null    int64  \n",
      " 28  retransmission_rate           182 non-null    float64\n",
      " 29  internal_external_ratio       182 non-null    float64\n",
      " 30  ttl_mean                      182 non-null    float64\n",
      " 31  ttl_std                       182 non-null    float64\n",
      " 32  http_get_count                182 non-null    int64  \n",
      " 33  http_post_count               182 non-null    int64  \n",
      " 34  http_other_count              182 non-null    int64  \n",
      " 35  is_baseline                   182 non-null    bool   \n",
      " 36  file_source                   182 non-null    object \n",
      "dtypes: bool(1), float64(11), int64(24), object(1)\n",
      "memory usage: 51.5+ KB\n"
     ]
    },
    {
     "data": {
      "text/plain": [
       "None"
      ]
     },
     "metadata": {},
     "output_type": "display_data"
    },
    {
     "data": {
      "text/plain": [
       "'--------------------'"
      ]
     },
     "metadata": {},
     "output_type": "display_data"
    },
    {
     "data": {
      "text/plain": [
       "\"dataframe's head is :\""
      ]
     },
     "metadata": {},
     "output_type": "display_data"
    },
    {
     "data": {
      "text/html": [
       "<div>\n",
       "<style scoped>\n",
       "    .dataframe tbody tr th:only-of-type {\n",
       "        vertical-align: middle;\n",
       "    }\n",
       "\n",
       "    .dataframe tbody tr th {\n",
       "        vertical-align: top;\n",
       "    }\n",
       "\n",
       "    .dataframe thead th {\n",
       "        text-align: right;\n",
       "    }\n",
       "</style>\n",
       "<table border=\"1\" class=\"dataframe\">\n",
       "  <thead>\n",
       "    <tr style=\"text-align: right;\">\n",
       "      <th></th>\n",
       "      <th>window_id</th>\n",
       "      <th>window_start</th>\n",
       "      <th>packet_count</th>\n",
       "      <th>bytes_per_second</th>\n",
       "      <th>avg_packet_size</th>\n",
       "      <th>packet_size_std</th>\n",
       "      <th>unique_protocols</th>\n",
       "      <th>unique_src_ips</th>\n",
       "      <th>unique_dst_ips</th>\n",
       "      <th>unique_src_ports</th>\n",
       "      <th>...</th>\n",
       "      <th>retransmission_count</th>\n",
       "      <th>retransmission_rate</th>\n",
       "      <th>internal_external_ratio</th>\n",
       "      <th>ttl_mean</th>\n",
       "      <th>ttl_std</th>\n",
       "      <th>http_get_count</th>\n",
       "      <th>http_post_count</th>\n",
       "      <th>http_other_count</th>\n",
       "      <th>is_baseline</th>\n",
       "      <th>file_source</th>\n",
       "    </tr>\n",
       "  </thead>\n",
       "  <tbody>\n",
       "    <tr>\n",
       "      <th>0</th>\n",
       "      <td>29034211</td>\n",
       "      <td>1742052660</td>\n",
       "      <td>327</td>\n",
       "      <td>1507.800000</td>\n",
       "      <td>276.660550</td>\n",
       "      <td>438.099172</td>\n",
       "      <td>0</td>\n",
       "      <td>17</td>\n",
       "      <td>18</td>\n",
       "      <td>37</td>\n",
       "      <td>...</td>\n",
       "      <td>7</td>\n",
       "      <td>0.021407</td>\n",
       "      <td>0.346154</td>\n",
       "      <td>94.176230</td>\n",
       "      <td>66.633061</td>\n",
       "      <td>0</td>\n",
       "      <td>0</td>\n",
       "      <td>0</td>\n",
       "      <td>True</td>\n",
       "      <td>baseline_day3.pcap</td>\n",
       "    </tr>\n",
       "    <tr>\n",
       "      <th>1</th>\n",
       "      <td>29034212</td>\n",
       "      <td>1742052720</td>\n",
       "      <td>3579</td>\n",
       "      <td>41266.650000</td>\n",
       "      <td>691.813076</td>\n",
       "      <td>683.013147</td>\n",
       "      <td>0</td>\n",
       "      <td>23</td>\n",
       "      <td>23</td>\n",
       "      <td>82</td>\n",
       "      <td>...</td>\n",
       "      <td>122</td>\n",
       "      <td>0.034088</td>\n",
       "      <td>0.243243</td>\n",
       "      <td>63.648462</td>\n",
       "      <td>22.617958</td>\n",
       "      <td>0</td>\n",
       "      <td>0</td>\n",
       "      <td>0</td>\n",
       "      <td>True</td>\n",
       "      <td>baseline_day3.pcap</td>\n",
       "    </tr>\n",
       "    <tr>\n",
       "      <th>2</th>\n",
       "      <td>29034213</td>\n",
       "      <td>1742052780</td>\n",
       "      <td>4876</td>\n",
       "      <td>54145.933333</td>\n",
       "      <td>666.274815</td>\n",
       "      <td>688.616027</td>\n",
       "      <td>0</td>\n",
       "      <td>23</td>\n",
       "      <td>23</td>\n",
       "      <td>99</td>\n",
       "      <td>...</td>\n",
       "      <td>147</td>\n",
       "      <td>0.030148</td>\n",
       "      <td>0.314286</td>\n",
       "      <td>62.672822</td>\n",
       "      <td>21.690844</td>\n",
       "      <td>0</td>\n",
       "      <td>0</td>\n",
       "      <td>0</td>\n",
       "      <td>True</td>\n",
       "      <td>baseline_day3.pcap</td>\n",
       "    </tr>\n",
       "    <tr>\n",
       "      <th>3</th>\n",
       "      <td>29034214</td>\n",
       "      <td>1742052840</td>\n",
       "      <td>1087</td>\n",
       "      <td>8822.283333</td>\n",
       "      <td>486.970561</td>\n",
       "      <td>599.537481</td>\n",
       "      <td>0</td>\n",
       "      <td>22</td>\n",
       "      <td>22</td>\n",
       "      <td>50</td>\n",
       "      <td>...</td>\n",
       "      <td>11</td>\n",
       "      <td>0.010120</td>\n",
       "      <td>0.375000</td>\n",
       "      <td>70.998628</td>\n",
       "      <td>43.327809</td>\n",
       "      <td>0</td>\n",
       "      <td>0</td>\n",
       "      <td>0</td>\n",
       "      <td>True</td>\n",
       "      <td>baseline_day3.pcap</td>\n",
       "    </tr>\n",
       "    <tr>\n",
       "      <th>4</th>\n",
       "      <td>29034215</td>\n",
       "      <td>1742052900</td>\n",
       "      <td>2776</td>\n",
       "      <td>35793.000000</td>\n",
       "      <td>773.623919</td>\n",
       "      <td>684.214021</td>\n",
       "      <td>0</td>\n",
       "      <td>21</td>\n",
       "      <td>21</td>\n",
       "      <td>43</td>\n",
       "      <td>...</td>\n",
       "      <td>31</td>\n",
       "      <td>0.011167</td>\n",
       "      <td>0.312500</td>\n",
       "      <td>63.684815</td>\n",
       "      <td>24.436863</td>\n",
       "      <td>0</td>\n",
       "      <td>0</td>\n",
       "      <td>0</td>\n",
       "      <td>True</td>\n",
       "      <td>baseline_day3.pcap</td>\n",
       "    </tr>\n",
       "  </tbody>\n",
       "</table>\n",
       "<p>5 rows × 37 columns</p>\n",
       "</div>"
      ],
      "text/plain": [
       "   window_id  window_start  packet_count  bytes_per_second  avg_packet_size  \\\n",
       "0   29034211    1742052660           327       1507.800000       276.660550   \n",
       "1   29034212    1742052720          3579      41266.650000       691.813076   \n",
       "2   29034213    1742052780          4876      54145.933333       666.274815   \n",
       "3   29034214    1742052840          1087       8822.283333       486.970561   \n",
       "4   29034215    1742052900          2776      35793.000000       773.623919   \n",
       "\n",
       "   packet_size_std  unique_protocols  unique_src_ips  unique_dst_ips  \\\n",
       "0       438.099172                 0              17              18   \n",
       "1       683.013147                 0              23              23   \n",
       "2       688.616027                 0              23              23   \n",
       "3       599.537481                 0              22              22   \n",
       "4       684.214021                 0              21              21   \n",
       "\n",
       "   unique_src_ports  ...  retransmission_count  retransmission_rate  \\\n",
       "0                37  ...                     7             0.021407   \n",
       "1                82  ...                   122             0.034088   \n",
       "2                99  ...                   147             0.030148   \n",
       "3                50  ...                    11             0.010120   \n",
       "4                43  ...                    31             0.011167   \n",
       "\n",
       "   internal_external_ratio   ttl_mean    ttl_std  http_get_count  \\\n",
       "0                 0.346154  94.176230  66.633061               0   \n",
       "1                 0.243243  63.648462  22.617958               0   \n",
       "2                 0.314286  62.672822  21.690844               0   \n",
       "3                 0.375000  70.998628  43.327809               0   \n",
       "4                 0.312500  63.684815  24.436863               0   \n",
       "\n",
       "   http_post_count  http_other_count  is_baseline         file_source  \n",
       "0                0                 0         True  baseline_day3.pcap  \n",
       "1                0                 0         True  baseline_day3.pcap  \n",
       "2                0                 0         True  baseline_day3.pcap  \n",
       "3                0                 0         True  baseline_day3.pcap  \n",
       "4                0                 0         True  baseline_day3.pcap  \n",
       "\n",
       "[5 rows x 37 columns]"
      ]
     },
     "metadata": {},
     "output_type": "display_data"
    },
    {
     "data": {
      "text/plain": [
       "'--------------------'"
      ]
     },
     "metadata": {},
     "output_type": "display_data"
    },
    {
     "data": {
      "text/plain": [
       "\"dataframe's tail is :\""
      ]
     },
     "metadata": {},
     "output_type": "display_data"
    },
    {
     "data": {
      "text/html": [
       "<div>\n",
       "<style scoped>\n",
       "    .dataframe tbody tr th:only-of-type {\n",
       "        vertical-align: middle;\n",
       "    }\n",
       "\n",
       "    .dataframe tbody tr th {\n",
       "        vertical-align: top;\n",
       "    }\n",
       "\n",
       "    .dataframe thead th {\n",
       "        text-align: right;\n",
       "    }\n",
       "</style>\n",
       "<table border=\"1\" class=\"dataframe\">\n",
       "  <thead>\n",
       "    <tr style=\"text-align: right;\">\n",
       "      <th></th>\n",
       "      <th>window_id</th>\n",
       "      <th>window_start</th>\n",
       "      <th>packet_count</th>\n",
       "      <th>bytes_per_second</th>\n",
       "      <th>avg_packet_size</th>\n",
       "      <th>packet_size_std</th>\n",
       "      <th>unique_protocols</th>\n",
       "      <th>unique_src_ips</th>\n",
       "      <th>unique_dst_ips</th>\n",
       "      <th>unique_src_ports</th>\n",
       "      <th>...</th>\n",
       "      <th>retransmission_count</th>\n",
       "      <th>retransmission_rate</th>\n",
       "      <th>internal_external_ratio</th>\n",
       "      <th>ttl_mean</th>\n",
       "      <th>ttl_std</th>\n",
       "      <th>http_get_count</th>\n",
       "      <th>http_post_count</th>\n",
       "      <th>http_other_count</th>\n",
       "      <th>is_baseline</th>\n",
       "      <th>file_source</th>\n",
       "    </tr>\n",
       "  </thead>\n",
       "  <tbody>\n",
       "    <tr>\n",
       "      <th>177</th>\n",
       "      <td>29028315</td>\n",
       "      <td>1741698900</td>\n",
       "      <td>301</td>\n",
       "      <td>811.133333</td>\n",
       "      <td>161.687708</td>\n",
       "      <td>283.243416</td>\n",
       "      <td>0</td>\n",
       "      <td>18</td>\n",
       "      <td>20</td>\n",
       "      <td>28</td>\n",
       "      <td>...</td>\n",
       "      <td>5</td>\n",
       "      <td>0.016611</td>\n",
       "      <td>0.0</td>\n",
       "      <td>58.962585</td>\n",
       "      <td>17.222295</td>\n",
       "      <td>0</td>\n",
       "      <td>0</td>\n",
       "      <td>0</td>\n",
       "      <td>True</td>\n",
       "      <td>baseline_day1.pcap</td>\n",
       "    </tr>\n",
       "    <tr>\n",
       "      <th>178</th>\n",
       "      <td>29028316</td>\n",
       "      <td>1741698960</td>\n",
       "      <td>1027</td>\n",
       "      <td>7941.333333</td>\n",
       "      <td>463.953262</td>\n",
       "      <td>532.872552</td>\n",
       "      <td>0</td>\n",
       "      <td>23</td>\n",
       "      <td>26</td>\n",
       "      <td>37</td>\n",
       "      <td>...</td>\n",
       "      <td>1</td>\n",
       "      <td>0.000974</td>\n",
       "      <td>0.0</td>\n",
       "      <td>61.635651</td>\n",
       "      <td>14.445157</td>\n",
       "      <td>0</td>\n",
       "      <td>0</td>\n",
       "      <td>0</td>\n",
       "      <td>True</td>\n",
       "      <td>baseline_day1.pcap</td>\n",
       "    </tr>\n",
       "    <tr>\n",
       "      <th>179</th>\n",
       "      <td>29028317</td>\n",
       "      <td>1741699020</td>\n",
       "      <td>300</td>\n",
       "      <td>1498.633333</td>\n",
       "      <td>299.726667</td>\n",
       "      <td>420.982991</td>\n",
       "      <td>0</td>\n",
       "      <td>21</td>\n",
       "      <td>24</td>\n",
       "      <td>34</td>\n",
       "      <td>...</td>\n",
       "      <td>0</td>\n",
       "      <td>0.000000</td>\n",
       "      <td>0.0</td>\n",
       "      <td>64.839465</td>\n",
       "      <td>18.832859</td>\n",
       "      <td>0</td>\n",
       "      <td>0</td>\n",
       "      <td>0</td>\n",
       "      <td>True</td>\n",
       "      <td>baseline_day1.pcap</td>\n",
       "    </tr>\n",
       "    <tr>\n",
       "      <th>180</th>\n",
       "      <td>29028318</td>\n",
       "      <td>1741699080</td>\n",
       "      <td>341</td>\n",
       "      <td>1177.633333</td>\n",
       "      <td>207.208211</td>\n",
       "      <td>313.298393</td>\n",
       "      <td>0</td>\n",
       "      <td>19</td>\n",
       "      <td>18</td>\n",
       "      <td>48</td>\n",
       "      <td>...</td>\n",
       "      <td>1</td>\n",
       "      <td>0.002933</td>\n",
       "      <td>0.0</td>\n",
       "      <td>64.265176</td>\n",
       "      <td>29.276854</td>\n",
       "      <td>0</td>\n",
       "      <td>0</td>\n",
       "      <td>0</td>\n",
       "      <td>True</td>\n",
       "      <td>baseline_day1.pcap</td>\n",
       "    </tr>\n",
       "    <tr>\n",
       "      <th>181</th>\n",
       "      <td>29028319</td>\n",
       "      <td>1741699140</td>\n",
       "      <td>72</td>\n",
       "      <td>442.166667</td>\n",
       "      <td>368.472222</td>\n",
       "      <td>539.853272</td>\n",
       "      <td>0</td>\n",
       "      <td>11</td>\n",
       "      <td>12</td>\n",
       "      <td>12</td>\n",
       "      <td>...</td>\n",
       "      <td>0</td>\n",
       "      <td>0.000000</td>\n",
       "      <td>0.0</td>\n",
       "      <td>69.958333</td>\n",
       "      <td>19.017855</td>\n",
       "      <td>0</td>\n",
       "      <td>0</td>\n",
       "      <td>0</td>\n",
       "      <td>True</td>\n",
       "      <td>baseline_day1.pcap</td>\n",
       "    </tr>\n",
       "  </tbody>\n",
       "</table>\n",
       "<p>5 rows × 37 columns</p>\n",
       "</div>"
      ],
      "text/plain": [
       "     window_id  window_start  packet_count  bytes_per_second  avg_packet_size  \\\n",
       "177   29028315    1741698900           301        811.133333       161.687708   \n",
       "178   29028316    1741698960          1027       7941.333333       463.953262   \n",
       "179   29028317    1741699020           300       1498.633333       299.726667   \n",
       "180   29028318    1741699080           341       1177.633333       207.208211   \n",
       "181   29028319    1741699140            72        442.166667       368.472222   \n",
       "\n",
       "     packet_size_std  unique_protocols  unique_src_ips  unique_dst_ips  \\\n",
       "177       283.243416                 0              18              20   \n",
       "178       532.872552                 0              23              26   \n",
       "179       420.982991                 0              21              24   \n",
       "180       313.298393                 0              19              18   \n",
       "181       539.853272                 0              11              12   \n",
       "\n",
       "     unique_src_ports  ...  retransmission_count  retransmission_rate  \\\n",
       "177                28  ...                     5             0.016611   \n",
       "178                37  ...                     1             0.000974   \n",
       "179                34  ...                     0             0.000000   \n",
       "180                48  ...                     1             0.002933   \n",
       "181                12  ...                     0             0.000000   \n",
       "\n",
       "     internal_external_ratio   ttl_mean    ttl_std  http_get_count  \\\n",
       "177                      0.0  58.962585  17.222295               0   \n",
       "178                      0.0  61.635651  14.445157               0   \n",
       "179                      0.0  64.839465  18.832859               0   \n",
       "180                      0.0  64.265176  29.276854               0   \n",
       "181                      0.0  69.958333  19.017855               0   \n",
       "\n",
       "     http_post_count  http_other_count  is_baseline         file_source  \n",
       "177                0                 0         True  baseline_day1.pcap  \n",
       "178                0                 0         True  baseline_day1.pcap  \n",
       "179                0                 0         True  baseline_day1.pcap  \n",
       "180                0                 0         True  baseline_day1.pcap  \n",
       "181                0                 0         True  baseline_day1.pcap  \n",
       "\n",
       "[5 rows x 37 columns]"
      ]
     },
     "metadata": {},
     "output_type": "display_data"
    },
    {
     "data": {
      "text/plain": [
       "'--------------------'"
      ]
     },
     "metadata": {},
     "output_type": "display_data"
    },
    {
     "data": {
      "text/plain": [
       "\"dataframe's describe is :\""
      ]
     },
     "metadata": {},
     "output_type": "display_data"
    },
    {
     "data": {
      "text/html": [
       "<div>\n",
       "<style scoped>\n",
       "    .dataframe tbody tr th:only-of-type {\n",
       "        vertical-align: middle;\n",
       "    }\n",
       "\n",
       "    .dataframe tbody tr th {\n",
       "        vertical-align: top;\n",
       "    }\n",
       "\n",
       "    .dataframe thead th {\n",
       "        text-align: right;\n",
       "    }\n",
       "</style>\n",
       "<table border=\"1\" class=\"dataframe\">\n",
       "  <thead>\n",
       "    <tr style=\"text-align: right;\">\n",
       "      <th></th>\n",
       "      <th>window_id</th>\n",
       "      <th>window_start</th>\n",
       "      <th>packet_count</th>\n",
       "      <th>bytes_per_second</th>\n",
       "      <th>avg_packet_size</th>\n",
       "      <th>packet_size_std</th>\n",
       "      <th>unique_protocols</th>\n",
       "      <th>unique_src_ips</th>\n",
       "      <th>unique_dst_ips</th>\n",
       "      <th>unique_src_ports</th>\n",
       "      <th>...</th>\n",
       "      <th>syn_fin_ratio</th>\n",
       "      <th>connection_termination_ratio</th>\n",
       "      <th>retransmission_count</th>\n",
       "      <th>retransmission_rate</th>\n",
       "      <th>internal_external_ratio</th>\n",
       "      <th>ttl_mean</th>\n",
       "      <th>ttl_std</th>\n",
       "      <th>http_get_count</th>\n",
       "      <th>http_post_count</th>\n",
       "      <th>http_other_count</th>\n",
       "    </tr>\n",
       "  </thead>\n",
       "  <tbody>\n",
       "    <tr>\n",
       "      <th>count</th>\n",
       "      <td>1.820000e+02</td>\n",
       "      <td>1.820000e+02</td>\n",
       "      <td>182.000000</td>\n",
       "      <td>1.820000e+02</td>\n",
       "      <td>182.000000</td>\n",
       "      <td>182.000000</td>\n",
       "      <td>182.0</td>\n",
       "      <td>182.000000</td>\n",
       "      <td>182.000000</td>\n",
       "      <td>182.000000</td>\n",
       "      <td>...</td>\n",
       "      <td>182.000000</td>\n",
       "      <td>182.000000</td>\n",
       "      <td>182.000000</td>\n",
       "      <td>182.000000</td>\n",
       "      <td>182.000000</td>\n",
       "      <td>182.000000</td>\n",
       "      <td>182.000000</td>\n",
       "      <td>182.000000</td>\n",
       "      <td>182.0</td>\n",
       "      <td>182.000000</td>\n",
       "    </tr>\n",
       "    <tr>\n",
       "      <th>mean</th>\n",
       "      <td>2.903167e+07</td>\n",
       "      <td>1.741900e+09</td>\n",
       "      <td>4663.456044</td>\n",
       "      <td>7.054946e+04</td>\n",
       "      <td>479.261558</td>\n",
       "      <td>507.976090</td>\n",
       "      <td>0.0</td>\n",
       "      <td>20.230769</td>\n",
       "      <td>21.642857</td>\n",
       "      <td>51.521978</td>\n",
       "      <td>...</td>\n",
       "      <td>1.522259</td>\n",
       "      <td>1.512018</td>\n",
       "      <td>32.620879</td>\n",
       "      <td>0.015834</td>\n",
       "      <td>0.130847</td>\n",
       "      <td>69.530632</td>\n",
       "      <td>30.225467</td>\n",
       "      <td>0.021978</td>\n",
       "      <td>0.0</td>\n",
       "      <td>0.010989</td>\n",
       "    </tr>\n",
       "    <tr>\n",
       "      <th>std</th>\n",
       "      <td>2.507656e+03</td>\n",
       "      <td>1.504593e+05</td>\n",
       "      <td>26750.612728</td>\n",
       "      <td>4.716040e+05</td>\n",
       "      <td>233.031122</td>\n",
       "      <td>144.932619</td>\n",
       "      <td>0.0</td>\n",
       "      <td>8.561222</td>\n",
       "      <td>9.151212</td>\n",
       "      <td>35.646779</td>\n",
       "      <td>...</td>\n",
       "      <td>1.466853</td>\n",
       "      <td>1.950184</td>\n",
       "      <td>93.337765</td>\n",
       "      <td>0.020658</td>\n",
       "      <td>0.114124</td>\n",
       "      <td>20.081672</td>\n",
       "      <td>15.975376</td>\n",
       "      <td>0.147016</td>\n",
       "      <td>0.0</td>\n",
       "      <td>0.148250</td>\n",
       "    </tr>\n",
       "    <tr>\n",
       "      <th>min</th>\n",
       "      <td>2.902826e+07</td>\n",
       "      <td>1.741696e+09</td>\n",
       "      <td>25.000000</td>\n",
       "      <td>2.988333e+01</td>\n",
       "      <td>71.720000</td>\n",
       "      <td>12.829716</td>\n",
       "      <td>0.0</td>\n",
       "      <td>5.000000</td>\n",
       "      <td>5.000000</td>\n",
       "      <td>5.000000</td>\n",
       "      <td>...</td>\n",
       "      <td>0.000000</td>\n",
       "      <td>0.000000</td>\n",
       "      <td>0.000000</td>\n",
       "      <td>0.000000</td>\n",
       "      <td>0.000000</td>\n",
       "      <td>50.468531</td>\n",
       "      <td>7.341066</td>\n",
       "      <td>0.000000</td>\n",
       "      <td>0.0</td>\n",
       "      <td>0.000000</td>\n",
       "    </tr>\n",
       "    <tr>\n",
       "      <th>25%</th>\n",
       "      <td>2.902830e+07</td>\n",
       "      <td>1.741698e+09</td>\n",
       "      <td>448.000000</td>\n",
       "      <td>2.596096e+03</td>\n",
       "      <td>276.172613</td>\n",
       "      <td>411.717920</td>\n",
       "      <td>0.0</td>\n",
       "      <td>15.000000</td>\n",
       "      <td>16.000000</td>\n",
       "      <td>29.250000</td>\n",
       "      <td>...</td>\n",
       "      <td>0.933124</td>\n",
       "      <td>0.750000</td>\n",
       "      <td>2.000000</td>\n",
       "      <td>0.002335</td>\n",
       "      <td>0.000000</td>\n",
       "      <td>61.370922</td>\n",
       "      <td>19.348329</td>\n",
       "      <td>0.000000</td>\n",
       "      <td>0.0</td>\n",
       "      <td>0.000000</td>\n",
       "    </tr>\n",
       "    <tr>\n",
       "      <th>50%</th>\n",
       "      <td>2.903252e+07</td>\n",
       "      <td>1.741951e+09</td>\n",
       "      <td>919.000000</td>\n",
       "      <td>6.813650e+03</td>\n",
       "      <td>453.970464</td>\n",
       "      <td>544.365977</td>\n",
       "      <td>0.0</td>\n",
       "      <td>18.000000</td>\n",
       "      <td>20.000000</td>\n",
       "      <td>43.000000</td>\n",
       "      <td>...</td>\n",
       "      <td>1.148352</td>\n",
       "      <td>1.069694</td>\n",
       "      <td>8.000000</td>\n",
       "      <td>0.008820</td>\n",
       "      <td>0.135490</td>\n",
       "      <td>65.114184</td>\n",
       "      <td>26.437256</td>\n",
       "      <td>0.000000</td>\n",
       "      <td>0.0</td>\n",
       "      <td>0.000000</td>\n",
       "    </tr>\n",
       "    <tr>\n",
       "      <th>75%</th>\n",
       "      <td>2.903422e+07</td>\n",
       "      <td>1.742053e+09</td>\n",
       "      <td>2378.000000</td>\n",
       "      <td>2.340316e+04</td>\n",
       "      <td>651.730736</td>\n",
       "      <td>620.382691</td>\n",
       "      <td>0.0</td>\n",
       "      <td>24.000000</td>\n",
       "      <td>26.000000</td>\n",
       "      <td>62.750000</td>\n",
       "      <td>...</td>\n",
       "      <td>1.625000</td>\n",
       "      <td>1.445853</td>\n",
       "      <td>26.750000</td>\n",
       "      <td>0.021128</td>\n",
       "      <td>0.211416</td>\n",
       "      <td>71.179841</td>\n",
       "      <td>36.027820</td>\n",
       "      <td>0.000000</td>\n",
       "      <td>0.0</td>\n",
       "      <td>0.000000</td>\n",
       "    </tr>\n",
       "    <tr>\n",
       "      <th>max</th>\n",
       "      <td>2.903427e+07</td>\n",
       "      <td>1.742056e+09</td>\n",
       "      <td>334264.000000</td>\n",
       "      <td>5.892223e+06</td>\n",
       "      <td>1222.955393</td>\n",
       "      <td>690.849903</td>\n",
       "      <td>0.0</td>\n",
       "      <td>54.000000</td>\n",
       "      <td>58.000000</td>\n",
       "      <td>228.000000</td>\n",
       "      <td>...</td>\n",
       "      <td>10.666667</td>\n",
       "      <td>16.500000</td>\n",
       "      <td>963.000000</td>\n",
       "      <td>0.137509</td>\n",
       "      <td>0.500000</td>\n",
       "      <td>207.021718</td>\n",
       "      <td>82.890576</td>\n",
       "      <td>1.000000</td>\n",
       "      <td>0.0</td>\n",
       "      <td>2.000000</td>\n",
       "    </tr>\n",
       "  </tbody>\n",
       "</table>\n",
       "<p>8 rows × 35 columns</p>\n",
       "</div>"
      ],
      "text/plain": [
       "          window_id  window_start   packet_count  bytes_per_second  \\\n",
       "count  1.820000e+02  1.820000e+02     182.000000      1.820000e+02   \n",
       "mean   2.903167e+07  1.741900e+09    4663.456044      7.054946e+04   \n",
       "std    2.507656e+03  1.504593e+05   26750.612728      4.716040e+05   \n",
       "min    2.902826e+07  1.741696e+09      25.000000      2.988333e+01   \n",
       "25%    2.902830e+07  1.741698e+09     448.000000      2.596096e+03   \n",
       "50%    2.903252e+07  1.741951e+09     919.000000      6.813650e+03   \n",
       "75%    2.903422e+07  1.742053e+09    2378.000000      2.340316e+04   \n",
       "max    2.903427e+07  1.742056e+09  334264.000000      5.892223e+06   \n",
       "\n",
       "       avg_packet_size  packet_size_std  unique_protocols  unique_src_ips  \\\n",
       "count       182.000000       182.000000             182.0      182.000000   \n",
       "mean        479.261558       507.976090               0.0       20.230769   \n",
       "std         233.031122       144.932619               0.0        8.561222   \n",
       "min          71.720000        12.829716               0.0        5.000000   \n",
       "25%         276.172613       411.717920               0.0       15.000000   \n",
       "50%         453.970464       544.365977               0.0       18.000000   \n",
       "75%         651.730736       620.382691               0.0       24.000000   \n",
       "max        1222.955393       690.849903               0.0       54.000000   \n",
       "\n",
       "       unique_dst_ips  unique_src_ports  ...  syn_fin_ratio  \\\n",
       "count      182.000000        182.000000  ...     182.000000   \n",
       "mean        21.642857         51.521978  ...       1.522259   \n",
       "std          9.151212         35.646779  ...       1.466853   \n",
       "min          5.000000          5.000000  ...       0.000000   \n",
       "25%         16.000000         29.250000  ...       0.933124   \n",
       "50%         20.000000         43.000000  ...       1.148352   \n",
       "75%         26.000000         62.750000  ...       1.625000   \n",
       "max         58.000000        228.000000  ...      10.666667   \n",
       "\n",
       "       connection_termination_ratio  retransmission_count  \\\n",
       "count                    182.000000            182.000000   \n",
       "mean                       1.512018             32.620879   \n",
       "std                        1.950184             93.337765   \n",
       "min                        0.000000              0.000000   \n",
       "25%                        0.750000              2.000000   \n",
       "50%                        1.069694              8.000000   \n",
       "75%                        1.445853             26.750000   \n",
       "max                       16.500000            963.000000   \n",
       "\n",
       "       retransmission_rate  internal_external_ratio    ttl_mean     ttl_std  \\\n",
       "count           182.000000               182.000000  182.000000  182.000000   \n",
       "mean              0.015834                 0.130847   69.530632   30.225467   \n",
       "std               0.020658                 0.114124   20.081672   15.975376   \n",
       "min               0.000000                 0.000000   50.468531    7.341066   \n",
       "25%               0.002335                 0.000000   61.370922   19.348329   \n",
       "50%               0.008820                 0.135490   65.114184   26.437256   \n",
       "75%               0.021128                 0.211416   71.179841   36.027820   \n",
       "max               0.137509                 0.500000  207.021718   82.890576   \n",
       "\n",
       "       http_get_count  http_post_count  http_other_count  \n",
       "count      182.000000            182.0        182.000000  \n",
       "mean         0.021978              0.0          0.010989  \n",
       "std          0.147016              0.0          0.148250  \n",
       "min          0.000000              0.0          0.000000  \n",
       "25%          0.000000              0.0          0.000000  \n",
       "50%          0.000000              0.0          0.000000  \n",
       "75%          0.000000              0.0          0.000000  \n",
       "max          1.000000              0.0          2.000000  \n",
       "\n",
       "[8 rows x 35 columns]"
      ]
     },
     "metadata": {},
     "output_type": "display_data"
    },
    {
     "data": {
      "text/plain": [
       "'--------------------'"
      ]
     },
     "metadata": {},
     "output_type": "display_data"
    },
    {
     "data": {
      "text/plain": [
       "\"dataframe's null values are :\""
      ]
     },
     "metadata": {},
     "output_type": "display_data"
    },
    {
     "data": {
      "text/plain": [
       "window_id                       0\n",
       "window_start                    0\n",
       "packet_count                    0\n",
       "bytes_per_second                0\n",
       "avg_packet_size                 0\n",
       "packet_size_std                 0\n",
       "unique_protocols                0\n",
       "unique_src_ips                  0\n",
       "unique_dst_ips                  0\n",
       "unique_src_ports                0\n",
       "unique_dst_ports                0\n",
       "unique_ip_pairs                 0\n",
       "unique_port_pairs               0\n",
       "unique_connections              0\n",
       "dns_query_count                 0\n",
       "bytes_in                        0\n",
       "bytes_out                       0\n",
       "packets_in                      0\n",
       "packets_out                     0\n",
       "io_bytes_ratio                  0\n",
       "io_packet_ratio                 0\n",
       "new_connections                 0\n",
       "syn_count                       0\n",
       "fin_count                       0\n",
       "rst_count                       0\n",
       "syn_fin_ratio                   0\n",
       "connection_termination_ratio    0\n",
       "retransmission_count            0\n",
       "retransmission_rate             0\n",
       "internal_external_ratio         0\n",
       "ttl_mean                        0\n",
       "ttl_std                         0\n",
       "http_get_count                  0\n",
       "http_post_count                 0\n",
       "http_other_count                0\n",
       "is_baseline                     0\n",
       "file_source                     0\n",
       "dtype: int64"
      ]
     },
     "metadata": {},
     "output_type": "display_data"
    },
    {
     "data": {
      "text/plain": [
       "'--------------------'"
      ]
     },
     "metadata": {},
     "output_type": "display_data"
    },
    {
     "data": {
      "text/plain": [
       "\"dataframe's unique values are :\""
      ]
     },
     "metadata": {},
     "output_type": "display_data"
    },
    {
     "data": {
      "text/plain": [
       "window_id                       182\n",
       "window_start                    182\n",
       "packet_count                    178\n",
       "bytes_per_second                182\n",
       "avg_packet_size                 182\n",
       "packet_size_std                 182\n",
       "unique_protocols                  1\n",
       "unique_src_ips                   39\n",
       "unique_dst_ips                   40\n",
       "unique_src_ports                 86\n",
       "unique_dst_ports                 83\n",
       "unique_ip_pairs                  64\n",
       "unique_port_pairs               111\n",
       "unique_connections              110\n",
       "dns_query_count                  38\n",
       "bytes_in                        124\n",
       "bytes_out                       122\n",
       "packets_in                      118\n",
       "packets_out                     115\n",
       "io_bytes_ratio                  122\n",
       "io_packet_ratio                 121\n",
       "new_connections                  60\n",
       "syn_count                        60\n",
       "fin_count                        55\n",
       "rst_count                        34\n",
       "syn_fin_ratio                   121\n",
       "connection_termination_ratio    134\n",
       "retransmission_count             59\n",
       "retransmission_rate             164\n",
       "internal_external_ratio          93\n",
       "ttl_mean                        182\n",
       "ttl_std                         182\n",
       "http_get_count                    2\n",
       "http_post_count                   1\n",
       "http_other_count                  2\n",
       "is_baseline                       1\n",
       "file_source                       3\n",
       "dtype: int64"
      ]
     },
     "metadata": {},
     "output_type": "display_data"
    },
    {
     "data": {
      "text/plain": [
       "'--------------------'"
      ]
     },
     "metadata": {},
     "output_type": "display_data"
    },
    {
     "data": {
      "text/plain": [
       "\"dataframe's data types are :\""
      ]
     },
     "metadata": {},
     "output_type": "display_data"
    },
    {
     "data": {
      "text/plain": [
       "window_id                         int64\n",
       "window_start                      int64\n",
       "packet_count                      int64\n",
       "bytes_per_second                float64\n",
       "avg_packet_size                 float64\n",
       "packet_size_std                 float64\n",
       "unique_protocols                  int64\n",
       "unique_src_ips                    int64\n",
       "unique_dst_ips                    int64\n",
       "unique_src_ports                  int64\n",
       "unique_dst_ports                  int64\n",
       "unique_ip_pairs                   int64\n",
       "unique_port_pairs                 int64\n",
       "unique_connections                int64\n",
       "dns_query_count                   int64\n",
       "bytes_in                          int64\n",
       "bytes_out                         int64\n",
       "packets_in                        int64\n",
       "packets_out                       int64\n",
       "io_bytes_ratio                  float64\n",
       "io_packet_ratio                 float64\n",
       "new_connections                   int64\n",
       "syn_count                         int64\n",
       "fin_count                         int64\n",
       "rst_count                         int64\n",
       "syn_fin_ratio                   float64\n",
       "connection_termination_ratio    float64\n",
       "retransmission_count              int64\n",
       "retransmission_rate             float64\n",
       "internal_external_ratio         float64\n",
       "ttl_mean                        float64\n",
       "ttl_std                         float64\n",
       "http_get_count                    int64\n",
       "http_post_count                   int64\n",
       "http_other_count                  int64\n",
       "is_baseline                        bool\n",
       "file_source                      object\n",
       "dtype: object"
      ]
     },
     "metadata": {},
     "output_type": "display_data"
    },
    {
     "data": {
      "text/plain": [
       "'--------------------'"
      ]
     },
     "metadata": {},
     "output_type": "display_data"
    },
    {
     "data": {
      "text/plain": [
       "\"dataframe's memory usage is :\""
      ]
     },
     "metadata": {},
     "output_type": "display_data"
    },
    {
     "data": {
      "text/plain": [
       "Index                            132\n",
       "window_id                       1456\n",
       "window_start                    1456\n",
       "packet_count                    1456\n",
       "bytes_per_second                1456\n",
       "avg_packet_size                 1456\n",
       "packet_size_std                 1456\n",
       "unique_protocols                1456\n",
       "unique_src_ips                  1456\n",
       "unique_dst_ips                  1456\n",
       "unique_src_ports                1456\n",
       "unique_dst_ports                1456\n",
       "unique_ip_pairs                 1456\n",
       "unique_port_pairs               1456\n",
       "unique_connections              1456\n",
       "dns_query_count                 1456\n",
       "bytes_in                        1456\n",
       "bytes_out                       1456\n",
       "packets_in                      1456\n",
       "packets_out                     1456\n",
       "io_bytes_ratio                  1456\n",
       "io_packet_ratio                 1456\n",
       "new_connections                 1456\n",
       "syn_count                       1456\n",
       "fin_count                       1456\n",
       "rst_count                       1456\n",
       "syn_fin_ratio                   1456\n",
       "connection_termination_ratio    1456\n",
       "retransmission_count            1456\n",
       "retransmission_rate             1456\n",
       "internal_external_ratio         1456\n",
       "ttl_mean                        1456\n",
       "ttl_std                         1456\n",
       "http_get_count                  1456\n",
       "http_post_count                 1456\n",
       "http_other_count                1456\n",
       "is_baseline                      182\n",
       "file_source                     1456\n",
       "dtype: int64"
      ]
     },
     "metadata": {},
     "output_type": "display_data"
    },
    {
     "data": {
      "text/plain": [
       "'--------------------'"
      ]
     },
     "metadata": {},
     "output_type": "display_data"
    },
    {
     "data": {
      "text/plain": [
       "\"dataframe's column stats are :\""
      ]
     },
     "metadata": {},
     "output_type": "display_data"
    },
    {
     "name": "stdout",
     "output_type": "stream",
     "text": [
      "An error occured:  numpy boolean subtract, the `-` operator, is not supported, use the bitwise_xor, the `^` operator, or the logical_xor function instead.\n"
     ]
    },
    {
     "data": {
      "text/plain": [
       "[]"
      ]
     },
     "execution_count": 23,
     "metadata": {},
     "output_type": "execute_result"
    }
   ],
   "source": [
    "get_stats(adv_df)"
   ]
  }
 ],
 "metadata": {
  "kernelspec": {
   "display_name": "PackageTracer",
   "language": "python",
   "name": "python3"
  },
  "language_info": {
   "codemirror_mode": {
    "name": "ipython",
    "version": 3
   },
   "file_extension": ".py",
   "mimetype": "text/x-python",
   "name": "python",
   "nbconvert_exporter": "python",
   "pygments_lexer": "ipython3",
   "version": "3.13.0"
  }
 },
 "nbformat": 4,
 "nbformat_minor": 2
}
